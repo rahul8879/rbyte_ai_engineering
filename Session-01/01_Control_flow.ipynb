{
 "cells": [
  {
   "cell_type": "code",
   "execution_count": 5,
   "metadata": {},
   "outputs": [
    {
     "name": "stdout",
     "output_type": "stream",
     "text": [
      "You are eligible to vote.\n"
     ]
    }
   ],
   "source": [
    "age = 20\n",
    "if age >= 18:\n",
    "    print(\"You are eligible to vote.\")\n",
    "\n"
   ]
  },
  {
   "cell_type": "code",
   "execution_count": 6,
   "metadata": {},
   "outputs": [
    {
     "name": "stdout",
     "output_type": "stream",
     "text": [
      "The weather is pleasant.\n"
     ]
    }
   ],
   "source": [
    "temperature = 25\n",
    "if temperature > 30:\n",
    "    print(\"It's a hot day!\")\n",
    "else:\n",
    "    print(\"The weather is pleasant.\")"
   ]
  },
  {
   "cell_type": "code",
   "execution_count": 9,
   "metadata": {},
   "outputs": [
    {
     "name": "stdout",
     "output_type": "stream",
     "text": [
      "Grade: A\n"
     ]
    }
   ],
   "source": [
    "score = 90\n",
    "\n",
    "if score >= 90:\n",
    "    if score>95:\n",
    "        print('Excellent marks')\n",
    "    else:\n",
    "        print(\"Grade: A\")\n",
    "elif score >= 80:\n",
    "    print(\"Grade: B\")\n",
    "elif score >= 70:\n",
    "    print(\"Grade: C\")\n",
    "elif score >= 60:\n",
    "    print(\"Grade: D\")\n",
    "else:\n",
    "    print(\"Grade: F\")"
   ]
  },
  {
   "cell_type": "code",
   "execution_count": 11,
   "metadata": {},
   "outputs": [
    {
     "name": "stdout",
     "output_type": "stream",
     "text": [
      "117\n"
     ]
    }
   ],
   "source": [
    "\n",
    "marks = [34,35,48]\n",
    "total = 0\n",
    "for i in marks:\n",
    "    total = total+i\n",
    "print(total)\n",
    "    "
   ]
  },
  {
   "cell_type": "code",
   "execution_count": 13,
   "metadata": {},
   "outputs": [
    {
     "name": "stdout",
     "output_type": "stream",
     "text": [
      "P\n",
      "y\n",
      "t\n",
      "h\n",
      "o\n",
      "n\n"
     ]
    }
   ],
   "source": [
    "name = \"Python\"\n",
    "for char in name:\n",
    "    print(char)"
   ]
  },
  {
   "cell_type": "code",
   "execution_count": 18,
   "metadata": {},
   "outputs": [
    {
     "name": "stdout",
     "output_type": "stream",
     "text": [
      "0\n",
      "2\n",
      "4\n",
      "6\n",
      "8\n",
      "10\n"
     ]
    }
   ],
   "source": [
    "# Using range():\n",
    "# Print numbers from 0 to 4\n",
    "# for i in range(0,5):\n",
    "#     print(i)\n",
    "\n",
    "# Print numbers from 1 to 5\n",
    "# for i in range(1, 6):\n",
    "#     print(i)\n",
    "for i in range(0, 11, 2):\n",
    "    print(i)"
   ]
  },
  {
   "cell_type": "code",
   "execution_count": 19,
   "metadata": {},
   "outputs": [
    {
     "data": {
      "text/plain": [
       "3"
      ]
     },
     "execution_count": 19,
     "metadata": {},
     "output_type": "execute_result"
    }
   ],
   "source": [
    "len(marks)"
   ]
  },
  {
   "cell_type": "code",
   "execution_count": 21,
   "metadata": {},
   "outputs": [
    {
     "name": "stdout",
     "output_type": "stream",
     "text": [
      "0\n",
      "1\n",
      "2\n",
      "117\n"
     ]
    }
   ],
   "source": [
    "\n",
    "marks = [34,35,48]\n",
    "total = 0\n",
    "\n",
    "\n",
    "for i in range(len(marks)):\n",
    "    print(i)\n",
    "    total = total +marks[i]\n",
    "\n",
    "print(total)"
   ]
  },
  {
   "cell_type": "code",
   "execution_count": 22,
   "metadata": {},
   "outputs": [
    {
     "name": "stdout",
     "output_type": "stream",
     "text": [
      "Index: 0, Value: a\n",
      "Index: 1, Value: b\n",
      "Index: 2, Value: c\n"
     ]
    }
   ],
   "source": [
    "my_list = ['a', 'b', 'c']\n",
    "for index, value in enumerate(my_list):\n",
    "    print(f\"Index: {index}, Value: {value}\")"
   ]
  },
  {
   "cell_type": "code",
   "execution_count": 25,
   "metadata": {},
   "outputs": [
    {
     "name": "stdout",
     "output_type": "stream",
     "text": [
      "This is odd number and number is 9 at index 3\n"
     ]
    }
   ],
   "source": [
    "random_number = [2,4,6,9]\n",
    "\n",
    "for i,value in enumerate(random_number):\n",
    "    if value%2!=0:\n",
    "        print('This is odd number and number is {} at index {}'.format(value,i))"
   ]
  },
  {
   "cell_type": "code",
   "execution_count": 26,
   "metadata": {},
   "outputs": [
    {
     "name": "stdout",
     "output_type": "stream",
     "text": [
      "5\n",
      "4\n",
      "3\n",
      "2\n",
      "1\n",
      "Blastoff!\n"
     ]
    }
   ],
   "source": [
    "count = 5\n",
    "while count > 0:\n",
    "    print(count)\n",
    "    count -= 1 # Decrement count to eventually make the condition False\n",
    "print(\"Blastoff!\")"
   ]
  },
  {
   "cell_type": "code",
   "execution_count": 28,
   "metadata": {},
   "outputs": [
    {
     "name": "stdout",
     "output_type": "stream",
     "text": [
      "Incorrect password. Try again.\n",
      "Incorrect password. Try again.\n",
      "Access granted!\n"
     ]
    }
   ],
   "source": [
    "password = \"\"\n",
    "while password != \"secret\":\n",
    "    password = input(\"Enter the password: \")\n",
    "    if password == \"secret\":\n",
    "        print(\"Access granted!\")\n",
    "    else:\n",
    "        print(\"Incorrect password. Try again.\")"
   ]
  },
  {
   "cell_type": "code",
   "execution_count": 31,
   "metadata": {},
   "outputs": [
    {
     "name": "stdout",
     "output_type": "stream",
     "text": [
      "0\n"
     ]
    }
   ],
   "source": [
    "i = 0\n",
    "while True: # Infinite loop until break is encountered\n",
    "    print(i)\n",
    "    if i == 0:\n",
    "        break # Exit the loop\n",
    "    i += 1"
   ]
  },
  {
   "cell_type": "code",
   "execution_count": 32,
   "metadata": {},
   "outputs": [
    {
     "name": "stdout",
     "output_type": "stream",
     "text": [
      "1\n",
      "3\n",
      "5\n",
      "7\n",
      "9\n"
     ]
    }
   ],
   "source": [
    "for num in range(10):\n",
    "    if num % 2 == 0: # If number is even\n",
    "        continue # Skip to the next iteration\n",
    "    print(num) # Only odd numbers will be printed"
   ]
  },
  {
   "cell_type": "code",
   "execution_count": 33,
   "metadata": {},
   "outputs": [
    {
     "name": "stdout",
     "output_type": "stream",
     "text": [
      "--- Student Grade Calculator (Basic) ---\n"
     ]
    }
   ],
   "source": []
  },
  {
   "cell_type": "code",
   "execution_count": 34,
   "metadata": {},
   "outputs": [],
   "source": []
  },
  {
   "cell_type": "code",
   "execution_count": null,
   "metadata": {},
   "outputs": [
    {
     "name": "stdout",
     "output_type": "stream",
     "text": [
      "Total scores entered: 3\n",
      "Sum of scores: 80\n",
      "Average score: 26.67\n",
      "\n",
      "\n"
     ]
    }
   ],
   "source": []
  },
  {
   "cell_type": "markdown",
   "metadata": {},
   "source": [
    "\n",
    "\n",
    "## 📝 Case Study 1: Student Grade Calculator (while loop)\n",
    "\n",
    "**Scenario:**  \n",
    "You need to create a program that continuously accepts student scores and calculates their average. The program should stop taking input when the user enters a specific sentinel value (e.g., `-1`). It should also handle invalid scores (e.g., scores below 0 or above 100).\n",
    "\n",
    "### Questions:\n",
    "\n",
    "✅ **Basic Input and Average:**  \n",
    "Write a `while` loop that takes integer scores as input until `-1` is entered. Keep track of the sum of scores and the count of valid scores. After the loop, calculate and print the average.\n",
    "\n",
    "✅ **Input Validation:**  \n",
    "Enhance the program to check if the entered score is within the valid range (0-100). If it's invalid, print an error message and do not include it in the average calculation.\n",
    "\n",
    "✅ **No Scores Entered:**  \n",
    "Modify the program to handle the case where no valid scores are entered before `-1` is input (e.g., the first input is `-1`). In this scenario, it should print a message indicating that no scores were entered.\n",
    "\n",
    "---\n",
    "\n",
    "## 🛒 Case Study 2: Inventory Management System (for loop and conditional logic)\n",
    "\n",
    "**Scenario:**  \n",
    "You are managing a small inventory of products. You have a list of product names and another list of their corresponding quantities. You need to process this inventory to identify low-stock items and calculate the total value of the inventory.\n",
    "\n",
    "### Given Data:\n",
    "\n",
    "```python\n",
    "products = [\"Laptop\", \"Mouse\", \"Keyboard\", \"Monitor\", \"Webcam\", \"Headphones\"]\n",
    "quantities = [10, 25, 5, 15, 8, 20]\n",
    "prices = [1200.00, 25.00, 75.00, 300.00, 50.00, 100.00] ```\n",
    "\n",
    "\n",
    "\n",
    "\n",
    "\n",
    "\n",
    "\n"
   ]
  },
  {
   "cell_type": "markdown",
   "metadata": {},
   "source": [
    "### Questions:\n",
    "\n",
    "✅ **Low Stock Alert:**  \n",
    "Use a `for` loop to iterate through the `products` and `quantities` lists. If a product's quantity is less than or equal to `10`, print an alert message like:  \n",
    "> \"ALERT: Laptop is low on stock (Quantity: 10)\"\n",
    "\n",
    "✅ **Total Inventory Value:**  \n",
    "Use a `for` loop to calculate the total value of the inventory (sum of `quantity * price` for each product). Print the final total value.\n",
    "\n",
    "✅ **Specific Product Search:**  \n",
    "Ask the user to enter a product name. Use a `for` loop to search for this product. If found, print its quantity and price. If not found, print `\"Product not found.\"` (Consider enhancing the search to be **case-insensitive**).\n"
   ]
  },
  {
   "cell_type": "code",
   "execution_count": 41,
   "metadata": {},
   "outputs": [
    {
     "name": "stdout",
     "output_type": "stream",
     "text": [
      "--- Student Grade Calculator (Basic) ---\n",
      "No scores were entered.\n",
      "\n",
      "\n"
     ]
    }
   ],
   "source": [
    "# solution of case study 1\n",
    "\n",
    "print(\"--- Student Grade Calculator (Basic) ---\")\n",
    "total_scores = 0\n",
    "score_count = 0\n",
    "score = 0 # Initialize score to enter the loop\n",
    "while score !=-1:\n",
    "    score = int(input(\"Enter student score (or -1 to finish): \"))\n",
    "    if score == -1:\n",
    "        break # Exit the loop if -1 is entered\n",
    "    total_scores = total_scores +score   # \n",
    "    score_count += 1\n",
    "if score_count > 0:\n",
    "    average = total_scores / score_count\n",
    "    print(f\"Total scores entered: {score_count}\")\n",
    "    print(f\"Sum of scores: {total_scores}\")\n",
    "    print(f\"Average score: {average:.2f}\")\n",
    "else:\n",
    "    print(\"No scores were entered.\")\n",
    "print(\"\\n\")"
   ]
  },
  {
   "cell_type": "code",
   "execution_count": 43,
   "metadata": {},
   "outputs": [],
   "source": [
    "products = [\"Laptop\", \"Mouse\", \"Keyboard\", \"Monitor\", \"Webcam\", \"Headphones\"]\n",
    "quantities = [10, 25, 5, 15, 8, 20]\n",
    "prices = [1200.00, 25.00, 75.00, 300.00, 50.00, 100.00] # Assuming corresponding prices"
   ]
  },
  {
   "cell_type": "code",
   "execution_count": 44,
   "metadata": {},
   "outputs": [
    {
     "name": "stdout",
     "output_type": "stream",
     "text": [
      "--- Inventory Management: Low Stock Alert ---\n",
      "ALERT: Laptop is low on stock (Quantity: 10)\n",
      "ALERT: Keyboard is low on stock (Quantity: 5)\n",
      "ALERT: Webcam is low on stock (Quantity: 8)\n",
      "\n",
      "\n"
     ]
    }
   ],
   "source": [
    "print(\"--- Inventory Management: Low Stock Alert ---\")\n",
    "for i in range(len(products)):\n",
    "    if quantities[i] <= 10:\n",
    "        print(f\"ALERT: {products[i]} is low on stock (Quantity: {quantities[i]})\")\n",
    "print(\"\\n\")"
   ]
  },
  {
   "cell_type": "code",
   "execution_count": 45,
   "metadata": {},
   "outputs": [
    {
     "name": "stdout",
     "output_type": "stream",
     "text": [
      "--- Inventory Management: Total Inventory Value ---\n",
      "Total inventory value: ₹19900.00\n",
      "\n",
      "\n"
     ]
    }
   ],
   "source": [
    "print(\"--- Inventory Management: Total Inventory Value ---\")\n",
    "total_inventory_value = 0\n",
    "for i in range(len(products)):\n",
    "    item_value = quantities[i] * prices[i]\n",
    "    total_inventory_value += item_value\n",
    "print(f\"Total inventory value: ₹{total_inventory_value:.2f}\") # Using INR symbol\n",
    "print(\"\\n\")"
   ]
  },
  {
   "cell_type": "code",
   "execution_count": 47,
   "metadata": {},
   "outputs": [
    {
     "name": "stdout",
     "output_type": "stream",
     "text": [
      "--- Inventory Management: Product Search ---\n"
     ]
    },
    {
     "name": "stdout",
     "output_type": "stream",
     "text": [
      "Product not found.\n",
      "\n",
      "\n"
     ]
    }
   ],
   "source": [
    "print(\"--- Inventory Management: Product Search ---\")\n",
    "search_product = input(\"Enter product name to search: \")\n",
    "found = False\n",
    "for i in range(len(products)):\n",
    "    if products[i].lower() == search_product.lower(): # Case-insensitive search\n",
    "        print(f\"Product: {products[i]}\")\n",
    "        print(f\"Quantity: {quantities[i]}\")\n",
    "        print(f\"Price: ₹{prices[i]:.2f}\")\n",
    "        found = True\n",
    "        break # Exit loop once product is found\n",
    "if not found:\n",
    "    print(\"Product not found.\")\n",
    "print(\"\\n\")"
   ]
  },
  {
   "cell_type": "code",
   "execution_count": null,
   "metadata": {},
   "outputs": [],
   "source": []
  }
 ],
 "metadata": {
  "kernelspec": {
   "display_name": "rbyte-env",
   "language": "python",
   "name": "python3"
  },
  "language_info": {
   "codemirror_mode": {
    "name": "ipython",
    "version": 3
   },
   "file_extension": ".py",
   "mimetype": "text/x-python",
   "name": "python",
   "nbconvert_exporter": "python",
   "pygments_lexer": "ipython3",
   "version": "3.11.4"
  }
 },
 "nbformat": 4,
 "nbformat_minor": 2
}
