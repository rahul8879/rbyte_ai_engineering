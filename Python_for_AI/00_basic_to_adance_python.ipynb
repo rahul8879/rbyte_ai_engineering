{
 "cells": [
  {
   "cell_type": "code",
   "execution_count": 8,
   "metadata": {},
   "outputs": [
    {
     "data": {
      "text/plain": [
       "3"
      ]
     },
     "execution_count": 8,
     "metadata": {},
     "output_type": "execute_result"
    }
   ],
   "source": [
    "# how to declare variabe\n",
    "\n",
    "\n",
    "# list of temperature of different cities\n",
    "# Mum : 34\n",
    "# Del : 32\n",
    "# Pune : 28\n",
    "\n",
    "list_temp = [34,32,28 ]\n",
    "type(list_temp)  # every data structre comes with operations\n",
    "\n",
    "# inbuilt : some functions comes with python installation\n",
    "len(list_temp)\n",
    "\n",
    "\n"
   ]
  },
  {
   "cell_type": "code",
   "execution_count": 11,
   "metadata": {},
   "outputs": [
    {
     "name": "stdout",
     "output_type": "stream",
     "text": [
      "Original list: [34, 32, 28]\n"
     ]
    }
   ],
   "source": [
    "list_temp = [34, 32, 28]\n",
    "print(f\"Original list: {list_temp}\")"
   ]
  },
  {
   "cell_type": "code",
   "execution_count": 12,
   "metadata": {},
   "outputs": [
    {
     "name": "stdout",
     "output_type": "stream",
     "text": [
      "After append(40): [34, 32, 28, 40]\n",
      "After append(10): [34, 32, 28, 40, 10]\n"
     ]
    }
   ],
   "source": [
    "list_temp.append(40)\n",
    "print(f\"After append(40): {list_temp}\")\n",
    "\n",
    "list_temp.append(10)\n",
    "print(f\"After append(10): {list_temp}\")"
   ]
  },
  {
   "cell_type": "code",
   "execution_count": 15,
   "metadata": {},
   "outputs": [
    {
     "name": "stdout",
     "output_type": "stream",
     "text": [
      "After extend: [34, 32, 28, 15, 25]\n"
     ]
    }
   ],
   "source": [
    "list_temp = [34, 32, 28]\n",
    "new_elements = (15, 25)\n",
    "list_temp.extend(new_elements)\n",
    "print(f\"After extend: {list_temp}\")"
   ]
  },
  {
   "cell_type": "code",
   "execution_count": 17,
   "metadata": {},
   "outputs": [
    {
     "name": "stdout",
     "output_type": "stream",
     "text": [
      "Original list: [34, 32, 28]\n",
      "After insert(1, 30): [34, 30, 32, 28]\n"
     ]
    }
   ],
   "source": [
    "list_temp = [34, 32, 28] # [34, 30, 32, 28] \n",
    "print(f\"Original list: {list_temp}\")\n",
    "\n",
    "list_temp.insert(1, 30) # Insert 30 at index 1\n",
    "print(f\"After insert(1, 30): {list_temp}\")"
   ]
  },
  {
   "cell_type": "code",
   "execution_count": 18,
   "metadata": {},
   "outputs": [
    {
     "name": "stdout",
     "output_type": "stream",
     "text": [
      "After insert(0, 50): [50, 34, 30, 32, 28]\n"
     ]
    }
   ],
   "source": [
    "list_temp.insert(0, 50) # Insert 50 at the beginning (index 0)\n",
    "print(f\"After insert(0, 50): {list_temp}\")"
   ]
  },
  {
   "cell_type": "code",
   "execution_count": 19,
   "metadata": {},
   "outputs": [
    {
     "name": "stdout",
     "output_type": "stream",
     "text": [
      "After insert(len(list_temp), 100): [50, 34, 30, 32, 28, 100]\n"
     ]
    }
   ],
   "source": [
    "list_temp.insert(len(list_temp), 100) # Insert 100 at the end (equivalent to append)\n",
    "print(f\"After insert(len(list_temp), 100): {list_temp}\")"
   ]
  },
  {
   "cell_type": "code",
   "execution_count": 21,
   "metadata": {},
   "outputs": [
    {
     "name": "stdout",
     "output_type": "stream",
     "text": [
      "Original list: [34, 32, 28, 32, 40]\n",
      "After remove(32): [34, 28, 32, 40]\n"
     ]
    }
   ],
   "source": [
    "list_temp = [34, 32, 28, 32, 40]\n",
    "print(f\"Original list: {list_temp}\")\n",
    "\n",
    "list_temp.remove(32) # Removes the first 32\n",
    "print(f\"After remove(32): {list_temp}\")"
   ]
  },
  {
   "cell_type": "code",
   "execution_count": 22,
   "metadata": {},
   "outputs": [
    {
     "name": "stdout",
     "output_type": "stream",
     "text": [
      "Original list: [34, 32, 28, 40, 10]\n",
      "After pop(2): [34, 32, 40, 10], Removed element: 28\n"
     ]
    }
   ],
   "source": [
    "list_temp = [34, 32, 28, 40, 10]\n",
    "print(f\"Original list: {list_temp}\")\n",
    "\n",
    "removed_element = list_temp.pop(2) # Removes element at index 2 (which is 28)\n",
    "print(f\"After pop(2): {list_temp}, Removed element: {removed_element}\")"
   ]
  },
  {
   "cell_type": "code",
   "execution_count": 23,
   "metadata": {},
   "outputs": [
    {
     "name": "stdout",
     "output_type": "stream",
     "text": [
      "After pop(): [34, 32, 40], Last element removed: 10\n"
     ]
    }
   ],
   "source": [
    "last_element = list_temp.pop() # Removes the last element\n",
    "print(f\"After pop(): {list_temp}, Last element removed: {last_element}\")"
   ]
  },
  {
   "cell_type": "code",
   "execution_count": 24,
   "metadata": {},
   "outputs": [
    {
     "name": "stdout",
     "output_type": "stream",
     "text": [
      "Original list: [34, 32, 28, 40, 10, 50]\n",
      "After del list_temp[1]: [34, 28, 40, 10, 50]\n"
     ]
    }
   ],
   "source": [
    "list_temp = [34, 32, 28, 40, 10, 50]\n",
    "print(f\"Original list: {list_temp}\")\n",
    "\n",
    "del list_temp[1] # Deletes element at index 1 (which is 32)\n",
    "print(f\"After del list_temp[1]: {list_temp}\")"
   ]
  },
  {
   "cell_type": "code",
   "execution_count": 33,
   "metadata": {},
   "outputs": [
    {
     "name": "stdout",
     "output_type": "stream",
     "text": [
      "After del list_temp[2:4]: [34, 28, 50]\n"
     ]
    }
   ],
   "source": [
    "del list_temp[2:4] # Deletes elements from index 2 up to (but not including) index 4\n",
    "print(f\"After del list_temp[2:4]: {list_temp}\")"
   ]
  },
  {
   "cell_type": "code",
   "execution_count": 34,
   "metadata": {},
   "outputs": [],
   "source": [
    "# You can also delete the entire list\n",
    "del list_temp\n",
    "# print(list_temp) # This would result in a NameError as list_temp is no longer defined"
   ]
  },
  {
   "cell_type": "code",
   "execution_count": 36,
   "metadata": {},
   "outputs": [
    {
     "name": "stdout",
     "output_type": "stream",
     "text": [
      "Original list: [34, 32, 28]\n",
      "After clear(): []\n"
     ]
    }
   ],
   "source": [
    "list_temp = [34, 32, 28]\n",
    "print(f\"Original list: {list_temp}\")\n",
    "\n",
    "list_temp.clear()\n",
    "print(f\"After clear(): {list_temp}\")"
   ]
  },
  {
   "cell_type": "code",
   "execution_count": 40,
   "metadata": {},
   "outputs": [
    {
     "name": "stdout",
     "output_type": "stream",
     "text": [
      "Original list: [34, 32, 28]\n",
      "After list_temp[0] = 100: [100, 32, 28]\n"
     ]
    }
   ],
   "source": [
    "list_temp = [34, 32, 28]\n",
    "print(f\"Original list: {list_temp}\")\n",
    "list_temp[0] = 100 # Change the first element\n",
    "print(f\"After list_temp[0] = 100: {list_temp}\")\n",
    "\n"
   ]
  },
  {
   "cell_type": "code",
   "execution_count": 41,
   "metadata": {},
   "outputs": [
    {
     "name": "stdout",
     "output_type": "stream",
     "text": [
      "Original list: [34, 32, 28, 40, 10]\n"
     ]
    }
   ],
   "source": [
    "# Slicing for Multiple Element Modification\n",
    "\n",
    "list_temp = [34, 32, 28, 40, 10]\n",
    "print(f\"Original list: {list_temp}\")"
   ]
  },
  {
   "cell_type": "code",
   "execution_count": 42,
   "metadata": {},
   "outputs": [
    {
     "name": "stdout",
     "output_type": "stream",
     "text": [
      "After list_temp[1:3] = [90, 91, 92]: [34, 90, 91, 92, 40, 10]\n"
     ]
    }
   ],
   "source": [
    "\n",
    "list_temp[1:3] = [90, 91, 92] # Replace elements at index 1 and 2 with three new elements\n",
    "print(f\"After list_temp[1:3] = [90, 91, 92]: {list_temp}\")"
   ]
  },
  {
   "cell_type": "code",
   "execution_count": 43,
   "metadata": {},
   "outputs": [
    {
     "name": "stdout",
     "output_type": "stream",
     "text": [
      "After list_temp[0:2] = [1, 2]: [1, 2, 91, 92, 40, 10]\n"
     ]
    }
   ],
   "source": [
    "list_temp[0:2] =  [1, 2] #Replace elements at index 0 and 1 with two new elements\n",
    "print(f\"After list_temp[0:2] = [1, 2]: {list_temp}\")"
   ]
  },
  {
   "cell_type": "code",
   "execution_count": 44,
   "metadata": {},
   "outputs": [
    {
     "name": "stdout",
     "output_type": "stream",
     "text": [
      "Original list: [34, 12, 28, 5, 40]\n",
      "After sort(): [5, 12, 28, 34, 40]\n"
     ]
    }
   ],
   "source": [
    "list_temp = [34, 12, 28, 5, 40]\n",
    "print(f\"Original list: {list_temp}\")\n",
    "\n",
    "list_temp.sort()\n",
    "print(f\"After sort(): {list_temp}\")"
   ]
  },
  {
   "cell_type": "code",
   "execution_count": 45,
   "metadata": {},
   "outputs": [
    {
     "name": "stdout",
     "output_type": "stream",
     "text": [
      "After sort(reverse=True): [40, 34, 28, 12, 5]\n"
     ]
    }
   ],
   "source": [
    "list_temp.sort(reverse=True) # Sort in descending order\n",
    "print(f\"After sort(reverse=True): {list_temp}\")"
   ]
  },
  {
   "cell_type": "code",
   "execution_count": 46,
   "metadata": {},
   "outputs": [
    {
     "name": "stdout",
     "output_type": "stream",
     "text": [
      "Sorted string list: ['apple', 'banana', 'cherry']\n"
     ]
    }
   ],
   "source": [
    "# You can also sort lists of strings\n",
    "string_list = [\"banana\", \"apple\", \"cherry\"]\n",
    "string_list.sort()\n",
    "print(f\"Sorted string list: {string_list}\")"
   ]
  },
  {
   "cell_type": "code",
   "execution_count": 47,
   "metadata": {},
   "outputs": [
    {
     "name": "stdout",
     "output_type": "stream",
     "text": [
      "Original list: [34, 12, 28, 5, 40]\n",
      "Original list after sorted(): [34, 12, 28, 5, 40]\n",
      "New sorted list: [5, 12, 28, 34, 40]\n"
     ]
    }
   ],
   "source": [
    "list_temp = [34, 12, 28, 5, 40]\n",
    "print(f\"Original list: {list_temp}\")\n",
    "\n",
    "sorted_list = sorted(list_temp)\n",
    "print(f\"Original list after sorted(): {list_temp}\") # Original list remains unchanged\n",
    "print(f\"New sorted list: {sorted_list}\")"
   ]
  },
  {
   "cell_type": "code",
   "execution_count": 48,
   "metadata": {},
   "outputs": [
    {
     "name": "stdout",
     "output_type": "stream",
     "text": [
      "New reverse sorted list: [40, 34, 28, 12, 5]\n"
     ]
    }
   ],
   "source": [
    "reverse_sorted_list = sorted(list_temp, reverse=True)\n",
    "print(f\"New reverse sorted list: {reverse_sorted_list}\")"
   ]
  },
  {
   "cell_type": "code",
   "execution_count": 50,
   "metadata": {},
   "outputs": [
    {
     "data": {
      "text/plain": [
       "18"
      ]
     },
     "execution_count": 50,
     "metadata": {},
     "output_type": "execute_result"
    }
   ],
   "source": [
    "city_temperatures = {\n",
    "    \"London\": 15,\n",
    "    \"Paris\": 18,\n",
    "    \"New York\": 22,\n",
    "    \"Tokyo\": 25,\n",
    "    \"Sydney\": 12\n",
    "}\n",
    "\n",
    "city_temperatures[\"Paris\"]"
   ]
  },
  {
   "cell_type": "code",
   "execution_count": 63,
   "metadata": {},
   "outputs": [
    {
     "name": "stdout",
     "output_type": "stream",
     "text": [
      "Original dictionary: {'London': 15, 'Paris': 18, 'New York': 22}\n",
      "After adding Rome: {'London': 15, 'Paris': 18, 'New York': 22, 'Rome': 20}\n",
      "After adding Beijing: {'London': 15, 'Paris': 18, 'New York': 22, 'Rome': 20, 'Beijing': 28}\n",
      "After updating London's temperature: {'London': 17, 'Paris': 18, 'New York': 22, 'Rome': 20, 'Beijing': 28}\n",
      "After updating New York's temperature: {'London': 17, 'Paris': 18, 'New York': 20, 'Rome': 20, 'Beijing': 28}\n"
     ]
    }
   ],
   "source": [
    "city_temperatures = {\n",
    "    \"London\": 15,\n",
    "    \"Paris\": 18,\n",
    "    \"New York\": 22\n",
    "}\n",
    "print(f\"Original dictionary: {city_temperatures}\")\n",
    "\n",
    "city_temperatures[\"Rome\"] = 20\n",
    "print(f\"After adding Rome: {city_temperatures}\")\n",
    "\n",
    "city_temperatures[\"Beijing\"] = 28\n",
    "print(f\"After adding Beijing: {city_temperatures}\")\n",
    "\n",
    "# Update the temperature for London\n",
    "city_temperatures[\"London\"] = 17\n",
    "print(f\"After updating London's temperature: {city_temperatures}\")\n",
    "\n",
    "# Update New York's temperature\n",
    "city_temperatures[\"New York\"] = 20\n",
    "print(f\"After updating New York's temperature: {city_temperatures}\")"
   ]
  },
  {
   "cell_type": "code",
   "execution_count": 64,
   "metadata": {},
   "outputs": [
    {
     "name": "stdout",
     "output_type": "stream",
     "text": [
      "After update() with new_data: {'London': 16, 'Paris': 18, 'Berlin': 19, 'Tokyo': 25}\n"
     ]
    }
   ],
   "source": [
    "city_temperatures = {\n",
    "    \"London\": 15,\n",
    "    \"Paris\": 18,\n",
    "    \"Berlin\": 22\n",
    "}\n",
    "\n",
    "new_data = {\n",
    "    \"Tokyo\": 25,\n",
    "    \"London\": 16, # This will update London's temperature\n",
    "    \"Berlin\": 19\n",
    "}\n",
    "\n",
    "city_temperatures.update(new_data)\n",
    "print(f\"After update() with new_data: {city_temperatures}\")"
   ]
  },
  {
   "cell_type": "code",
   "execution_count": 68,
   "metadata": {},
   "outputs": [
    {
     "name": "stdout",
     "output_type": "stream",
     "text": [
      "Original dictionary: {'London': 15, 'Paris': 18, 'New York': 22, 'Tokyo': 25}\n"
     ]
    },
    {
     "data": {
      "text/plain": [
       "22"
      ]
     },
     "execution_count": 68,
     "metadata": {},
     "output_type": "execute_result"
    }
   ],
   "source": [
    "city_temperatures = {\n",
    "    \"London\": 15,\n",
    "    \"Paris\": 18,\n",
    "    \"New York\": 22,\n",
    "    \"Tokyo\": 25\n",
    "}\n",
    "print(f\"Original dictionary: {city_temperatures}\")\n",
    "\n",
    "removed_temp = city_temperatures.pop(\"New York\")\n",
    "removed_temp"
   ]
  },
  {
   "cell_type": "code",
   "execution_count": 75,
   "metadata": {},
   "outputs": [
    {
     "name": "stdout",
     "output_type": "stream",
     "text": [
      "First character: P\n",
      "Character at index 4: r\n",
      "Last character (using negative index): g\n",
      "Second to last character: n\n",
      "Slice from index 0 to 6 (exclusive): Program\n",
      "Slice from index 3 to end: gramming\n",
      "Slice from beginning to index 5 (exclusive): Progr\n",
      "Slice of the entire string: Programming\n",
      "Slice with a step of 2: Pormig\n",
      "Reverse the string: gnimmargorP\n"
     ]
    }
   ],
   "source": [
    "text = \"Programming\"\n",
    "\n",
    "# Accessing individual characters\n",
    "print(f\"First character: {text[0]}\")      # P\n",
    "print(f\"Character at index 4: {text[4]}\") # r\n",
    "print(f\"Last character (using negative index): {text[-1]}\") # g\n",
    "print(f\"Second to last character: {text[-2]}\") # n\n",
    "\n",
    "# Slicing\n",
    "print(f\"Slice from index 0 to 6 (exclusive): {text[0:7]}\") # Programmi\n",
    "print(f\"Slice from index 3 to end: {text[3:]}\")    # gramming\n",
    "print(f\"Slice from beginning to index 5 (exclusive): {text[:5]}\") # Progr\n",
    "print(f\"Slice of the entire string: {text[:]}\")    # Programming\n",
    "print(f\"Slice with a step of 2: {text[::2]}\")      # Pogamn\n",
    "print(f\"Reverse the string: {text[::-1]}\")         # gnimmargorP"
   ]
  },
  {
   "cell_type": "code",
   "execution_count": 76,
   "metadata": {},
   "outputs": [
    {
     "name": "stdout",
     "output_type": "stream",
     "text": [
      "Concatenated message: Hello, Alice!\n",
      "Full sentence: Python is fun!\n"
     ]
    }
   ],
   "source": [
    "greeting = \"Hello\"\n",
    "name = \"Alice\"\n",
    "message = greeting + \", \" + name + \"!\"\n",
    "print(f\"Concatenated message: {message}\")\n",
    "\n",
    "# You can also concatenate multiple strings\n",
    "part1 = \"Python\"\n",
    "part2 = \" is\"\n",
    "part3 = \" fun!\"\n",
    "full_sentence = part1 + part2 + part3\n",
    "print(f\"Full sentence: {full_sentence}\")"
   ]
  },
  {
   "cell_type": "code",
   "execution_count": 78,
   "metadata": {},
   "outputs": [
    {
     "name": "stdout",
     "output_type": "stream",
     "text": [
      "Repeated word: HaHaHaHaHaHaHaHaHaHa\n"
     ]
    }
   ],
   "source": [
    "word = \"Ha\"\n",
    "repeated_word = word * 10\n",
    "print(f\"Repeated word: {repeated_word}\") # HaHaHa"
   ]
  },
  {
   "cell_type": "code",
   "execution_count": 79,
   "metadata": {},
   "outputs": [
    {
     "name": "stdout",
     "output_type": "stream",
     "text": [
      "The length of 'Python is powerful' is: 18\n"
     ]
    }
   ],
   "source": [
    "my_string = \"Python is powerful\"\n",
    "length = len(my_string)\n",
    "print(f\"The length of '{my_string}' is: {length}\") # 18"
   ]
  },
  {
   "cell_type": "code",
   "execution_count": 80,
   "metadata": {},
   "outputs": [
    {
     "name": "stdout",
     "output_type": "stream",
     "text": [
      "Original: 'hello world'\n",
      "Uppercase: 'HELLO WORLD'\n",
      "Lowercase: 'hello world'\n",
      "Capitalized: 'Hello world'\n",
      "Title Case: 'Hello World'\n"
     ]
    }
   ],
   "source": [
    "s = \"hello world\"\n",
    "\n",
    "print(f\"Original: '{s}'\")\n",
    "print(f\"Uppercase: '{s.upper()}'\")\n",
    "print(f\"Lowercase: '{s.lower()}'\")\n",
    "print(f\"Capitalized: '{s.capitalize()}'\")\n",
    "print(f\"Title Case: '{s.title()}'\")\n",
    "\n"
   ]
  },
  {
   "cell_type": "code",
   "execution_count": 81,
   "metadata": {},
   "outputs": [
    {
     "name": "stdout",
     "output_type": "stream",
     "text": [
      "Count of 'a' in 'banana': 3\n",
      "Count of 'na' in 'banana': 2\n",
      "Index of 'is': 7\n",
      "Index of 'xyz': -1\n",
      "Replaced text: 'I like oranges, oranges are good.'\n"
     ]
    }
   ],
   "source": [
    "text_for_count = \"banana\"\n",
    "print(f\"Count of 'a' in '{text_for_count}': {text_for_count.count('a')}\") # 3\n",
    "print(f\"Count of 'na' in '{text_for_count}': {text_for_count.count('na')}\") # 2\n",
    "\n",
    "text_for_find = \"Python is fun\"\n",
    "print(f\"Index of 'is': {text_for_find.find('is')}\") # 7\n",
    "print(f\"Index of 'xyz': {text_for_find.find('xyz')}\") # -1 (not found)\n",
    "\n",
    "text_for_replace = \"I like apples, apples are good.\"\n",
    "new_text = text_for_replace.replace(\"apples\", \"oranges\")\n",
    "print(f\"Replaced text: '{new_text}'\")\n"
   ]
  },
  {
   "cell_type": "code",
   "execution_count": 85,
   "metadata": {},
   "outputs": [
    {
     "name": "stdout",
     "output_type": "stream",
     "text": [
      "My name is Charlie and I am 30 years old.\n"
     ]
    }
   ],
   "source": [
    "name = \"Charlie\"\n",
    "age = 30\n",
    "print(\"My name is %s and I am %d years old.\" % (name, age))"
   ]
  },
  {
   "cell_type": "code",
   "execution_count": 86,
   "metadata": {},
   "outputs": [
    {
     "name": "stdout",
     "output_type": "stream",
     "text": [
      "The laptop costs $1200.50.\n"
     ]
    }
   ],
   "source": [
    "item = \"laptop\"\n",
    "price = 1200.50\n",
    "print(\"The {} costs ${:.2f}.\".format(item, price))"
   ]
  },
  {
   "cell_type": "code",
   "execution_count": null,
   "metadata": {},
   "outputs": [],
   "source": []
  }
 ],
 "metadata": {
  "kernelspec": {
   "display_name": "rbyte-env",
   "language": "python",
   "name": "python3"
  },
  "language_info": {
   "codemirror_mode": {
    "name": "ipython",
    "version": 3
   },
   "file_extension": ".py",
   "mimetype": "text/x-python",
   "name": "python",
   "nbconvert_exporter": "python",
   "pygments_lexer": "ipython3",
   "version": "3.11.4"
  }
 },
 "nbformat": 4,
 "nbformat_minor": 2
}
