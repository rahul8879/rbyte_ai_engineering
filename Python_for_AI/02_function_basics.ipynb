{
 "cells": [
  {
   "cell_type": "markdown",
   "metadata": {},
   "source": [
    "# Core Python Programming: Functions\n",
    "\n",
    "Functions are reusable blocks of code that perform a specific task. They help in organizing code, making it more modular, readable, and maintainable.\n",
    "\n",
    "---\n",
    "\n",
    "## 1️⃣ Defining Functions\n",
    "\n",
    "Functions are defined using the `def` keyword, followed by the function name, parentheses `()`, and a colon `:`. The function body must be indented.\n",
    "\n",
    "### Syntax:\n",
    "```python\n",
    "def function_name(parameters):\n",
    "    \"\"\"Docstring: Optional, explains what the function does.\"\"\"\n",
    "    # Function body (indented code)\n",
    "    # ...\n",
    "    return value  # Optional: returns a value\n"
   ]
  },
  {
   "cell_type": "code",
   "execution_count": 1,
   "metadata": {},
   "outputs": [
    {
     "name": "stdout",
     "output_type": "stream",
     "text": [
      "0\n",
      "1\n",
      "2\n",
      "117\n"
     ]
    }
   ],
   "source": [
    "# rahul\n",
    "marks = [34,35,48]\n",
    "total = 0\n",
    "\n",
    "\n",
    "for i in range(len(marks)):\n",
    "    print(i)\n",
    "    total = total +marks[i]\n",
    "\n",
    "print(total)"
   ]
  },
  {
   "cell_type": "code",
   "execution_count": 2,
   "metadata": {},
   "outputs": [
    {
     "name": "stdout",
     "output_type": "stream",
     "text": [
      "0\n",
      "1\n",
      "2\n",
      "2311\n"
     ]
    }
   ],
   "source": [
    "# mansi*1000\n",
    "marks = [31,2232,48]\n",
    "total = 0\n",
    "\n",
    "\n",
    "for i in range(len(marks)):\n",
    "    print(i)\n",
    "    total = total +marks[i]\n",
    "\n",
    "print(total)"
   ]
  },
  {
   "cell_type": "code",
   "execution_count": 15,
   "metadata": {},
   "outputs": [],
   "source": [
    "#functional approach\n",
    "def marksCalculator(marks=[21,21,22]):\n",
    "    total = 0\n",
    "    for i in range(len(marks)):\n",
    "        print(i)\n",
    "        total = total +marks[i]\n",
    "    avg_marks = total//len(marks)\n",
    "    return total,avg_marks\n",
    "    \n",
    "\n"
   ]
  },
  {
   "cell_type": "code",
   "execution_count": 14,
   "metadata": {},
   "outputs": [
    {
     "name": "stdout",
     "output_type": "stream",
     "text": [
      "0\n",
      "1\n",
      "2\n"
     ]
    },
    {
     "data": {
      "text/plain": [
       "(68, 22)"
      ]
     },
     "execution_count": 14,
     "metadata": {},
     "output_type": "execute_result"
    }
   ],
   "source": [
    "marksCalculator([21,21,26])"
   ]
  },
  {
   "cell_type": "code",
   "execution_count": 16,
   "metadata": {},
   "outputs": [
    {
     "name": "stdout",
     "output_type": "stream",
     "text": [
      "The sum is: 8\n"
     ]
    }
   ],
   "source": [
    "def add_numbers(a, b):\n",
    "    \"\"\"Adds two numbers and prints the result.\"\"\"\n",
    "    result = a + b\n",
    "    print(f\"The sum is: {result}\")\n",
    "\n",
    "add_numbers(5, 3)\n",
    "\n"
   ]
  },
  {
   "cell_type": "code",
   "execution_count": 17,
   "metadata": {},
   "outputs": [
    {
     "name": "stdout",
     "output_type": "stream",
     "text": [
      "The sum is: 30\n"
     ]
    }
   ],
   "source": [
    "add_numbers(10, 20)"
   ]
  },
  {
   "cell_type": "code",
   "execution_count": 18,
   "metadata": {},
   "outputs": [
    {
     "name": "stdout",
     "output_type": "stream",
     "text": [
      "I have a dog.\n",
      "My dog's name is Buddy.\n",
      "I have a cat.\n",
      "My cat's name is Whiskers.\n"
     ]
    }
   ],
   "source": [
    "def describe_pet(animal_type, pet_name):\n",
    "    \"\"\"Describes a pet.\"\"\"\n",
    "    print(f\"I have a {animal_type}.\")\n",
    "    print(f\"My {animal_type}'s name is {pet_name}.\")\n",
    "\n",
    "describe_pet(animal_type=\"dog\", pet_name=\"Buddy\")\n",
    "describe_pet(pet_name=\"Whiskers\", animal_type=\"cat\")\n"
   ]
  },
  {
   "cell_type": "markdown",
   "metadata": {},
   "source": [
    "Variable-Length Arguments (*args and **kwargs)"
   ]
  },
  {
   "cell_type": "code",
   "execution_count": 19,
   "metadata": {},
   "outputs": [
    {
     "name": "stdout",
     "output_type": "stream",
     "text": [
      "6\n",
      "100\n"
     ]
    }
   ],
   "source": [
    "def sum_all_numbers(*numbers):\n",
    "    \"\"\"Calculates the sum of an arbitrary number of arguments.\"\"\"\n",
    "    total = 0\n",
    "    for num in numbers:\n",
    "        total += num\n",
    "    return total\n",
    "\n",
    "print(sum_all_numbers(1, 2, 3))\n",
    "print(sum_all_numbers(10, 20, 30, 40))"
   ]
  },
  {
   "cell_type": "code",
   "execution_count": 20,
   "metadata": {},
   "outputs": [],
   "source": [
    "def display_info(**details):\n",
    "    \"\"\"Displays information passed as keyword arguments.\"\"\"\n",
    "    for key, value in details.items():\n",
    "        print(f\"{key.replace('_', ' ').title()}: {value}\")"
   ]
  },
  {
   "cell_type": "code",
   "execution_count": 21,
   "metadata": {},
   "outputs": [
    {
     "name": "stdout",
     "output_type": "stream",
     "text": [
      "Name: Bob\n",
      "Age: 30\n",
      "City: New York\n"
     ]
    }
   ],
   "source": [
    "display_info(name=\"Bob\", age=30, city=\"New York\")"
   ]
  },
  {
   "cell_type": "markdown",
   "metadata": {},
   "source": [
    "---\n",
    "\n",
    "## 4️⃣ Lambda Functions (Anonymous Functions)\n",
    "\n",
    "Lambda functions are small, anonymous (unnamed) functions defined using the `lambda` keyword. They are typically used for short, simple operations where a full `def` function definition would be overkill.\n",
    "\n",
    "### Syntax:\n",
    "```python\n",
    "lambda arguments: expression\n"
   ]
  },
  {
   "cell_type": "code",
   "execution_count": 23,
   "metadata": {},
   "outputs": [
    {
     "name": "stdout",
     "output_type": "stream",
     "text": [
      "5\n"
     ]
    }
   ],
   "source": [
    "add = lambda a, b: a + b\n",
    "print(add(2, 3)) # Output: 5"
   ]
  },
  {
   "cell_type": "code",
   "execution_count": 24,
   "metadata": {},
   "outputs": [
    {
     "name": "stdout",
     "output_type": "stream",
     "text": [
      "[{'name': 'Bob', 'age': 25}, {'name': 'Alice', 'age': 30}, {'name': 'Charlie', 'age': 35}]\n"
     ]
    }
   ],
   "source": [
    "students = [\n",
    "    {'name': 'Alice', 'age': 30},\n",
    "    {'name': 'Bob', 'age': 25},\n",
    "    {'name': 'Charlie', 'age': 35}\n",
    "]\n",
    "\n",
    "sorted_students = sorted(students, key=lambda s: s['age'])\n",
    "print(sorted_students)\n"
   ]
  },
  {
   "cell_type": "code",
   "execution_count": 25,
   "metadata": {},
   "outputs": [
    {
     "name": "stdout",
     "output_type": "stream",
     "text": [
      "[2, 4, 6, 8, 10]\n"
     ]
    }
   ],
   "source": [
    "numbers = [1, 2, 3, 4, 5, 6, 7, 8, 9, 10]\n",
    "\n",
    "# Filter even numbers using a lambda function\n",
    "even_numbers = list(filter(lambda x: x % 2 == 0, numbers))\n",
    "print(even_numbers) # Output: [2, 4, 6, 8, 10]"
   ]
  },
  {
   "cell_type": "markdown",
   "metadata": {},
   "source": [
    "# Case Study Questions: Functions\n",
    "\n",
    "---\n",
    "\n",
    "## 🛒 Case Study 1: E-commerce Order Processing\n",
    "\n",
    "**Scenario:**  \n",
    "You are building part of an e-commerce system that calculates the total cost of an order, including discounts and shipping.\n",
    "\n",
    "---\n",
    "\n",
    "### ✅ Calculate Total Cost\n",
    "- **Define** a function `calculate_order_total(price, quantity)`.  \n",
    "- The function should return the **subtotal** (`price * quantity`).  \n",
    "- **Test** it with:\n",
    "  - `price=10.50, quantity=3`\n",
    "  - `price=50, quantity=1`\n",
    "\n",
    "---\n",
    "\n",
    "### ✅ Apply Discount (Default Argument)\n",
    "- Modify the `calculate_order_total` function to include an **optional** `discount_percentage` (defaulting to `0`).  \n",
    "- The function should **subtract** the discount from the subtotal.  \n",
    "- **Test** with:\n",
    "  - `price=100, quantity=2, discount_percentage=10`\n",
    "  - `price=100, quantity=2` (no discount)\n",
    "\n",
    "---\n",
    "\n",
    "### ✅ Calculate Shipping Cost (Multiple Return Values)\n",
    "- Define a function `get_shipping_cost(total_weight)`.  \n",
    "- Rules:\n",
    "  - If `total_weight < 5 kg`, shipping is ₹50.  \n",
    "  - If `5 ≤ total_weight ≤ 20 kg`, shipping is ₹100.  \n",
    "  - If `total_weight > 20 kg`, shipping is ₹200.  \n",
    "- Return **both**:\n",
    "  - `shipping_cost`  \n",
    "  - `shipping_message` (e.g., \"Standard Shipping\" or \"Heavy Item Shipping\")  \n",
    "- **Test** with:\n",
    "  - `total_weight=3`\n",
    "  - `total_weight=15`\n",
    "  - `total_weight=25`\n",
    "\n",
    "---\n",
    "\n",
    "### ✅ Final Order Summary (Combining Functions)\n",
    "- Create a main function `process_order(item_price, item_quantity, item_weight, discount=0)`.  \n",
    "- This function should internally **call**:\n",
    "  - `calculate_order_total`  \n",
    "  - `get_shipping_cost`  \n",
    "- It should return:\n",
    "  - `final_total_amount`  \n",
    "  - A **summary dictionary** containing:  \n",
    "    ```python\n",
    "    {\n",
    "        'subtotal': ...,\n",
    "        'discount_applied': ...,\n",
    "        'shipping_cost': ...,\n",
    "        'shipping_message': ...,\n",
    "        'final_total': ...\n",
    "    }\n",
    "    ```  \n",
    "- **Test** with:\n",
    "  - `item_price=250, item_quantity=4, item_weight=10, discount=5`\n",
    "\n",
    "---\n",
    "\n",
    "💡 _Tip: Save this file as `functions_case_study.md` for quick reference!_\n",
    "\n",
    "Would you like me to also generate **example code solutions** for these questions? Let me know! 🚀\n"
   ]
  },
  {
   "cell_type": "markdown",
   "metadata": {},
   "source": [
    "# Case Study 2: User Profile Management\n",
    "\n",
    "---\n",
    "\n",
    "**Scenario:**  \n",
    "You are building a system to manage user profiles, which have varying attributes.\n",
    "\n",
    "---\n",
    "\n",
    "### ✅ Create Profile (Keyword Arguments)\n",
    "- **Define** a function `create_user_profile(username, email, age, city)`.  \n",
    "- This function should **print** the user's profile details.  \n",
    "- **Call it** using **keyword arguments in a mixed order** to demonstrate flexibility.\n",
    "\n",
    "---\n",
    "\n",
    "### ✅ Flexible Profile Update (`**kwargs`)\n",
    "- **Define** a function `update_user_profile(user_id, **updates)`.  \n",
    "- It should:\n",
    "  - Take a `user_id`  \n",
    "  - Accept an arbitrary number of keyword arguments representing profile updates (e.g., `city=\"New City\", phone=\"123-456-7890\"`)  \n",
    "  - **Print** the `user_id`  \n",
    "  - Iterate through the `updates` dictionary and print each key-value pair  \n",
    "- **Test** with:  \n",
    "  - `user_id=123, email=\"new@example.com\", status=\"active\"`  \n",
    "  - `user_id=456, city=\"Paris\"`\n",
    "\n",
    "---\n",
    "\n",
    "### ✅ Generate Profile ID (`*args`)\n",
    "- **Define** a function `generate_profile_id(*parts)`.  \n",
    "- This function should:\n",
    "  - Accept an arbitrary number of string parts (e.g., first name, last name, date of birth)  \n",
    "  - Concatenate them with a hyphen `-` to form a unique ID  \n",
    "  - **Return** the generated ID  \n",
    "- **Test** with:  \n",
    "  - `(\"John\", \"Doe\", \"1990\")`  \n",
    "  - `(\"Jane\", \"Smith\", \"2000\", \"USA\")`\n",
    "\n",
    "---\n",
    "\n",
    "💡 _Save this file as `user_profile_case_study.md` for quick reference!_\n",
    "\n",
    "Would you like me to also create **example code solutions** for these questions? Let me know! 🚀\n"
   ]
  },
  {
   "cell_type": "code",
   "execution_count": null,
   "metadata": {},
   "outputs": [],
   "source": []
  }
 ],
 "metadata": {
  "kernelspec": {
   "display_name": "rbyte-env",
   "language": "python",
   "name": "python3"
  },
  "language_info": {
   "codemirror_mode": {
    "name": "ipython",
    "version": 3
   },
   "file_extension": ".py",
   "mimetype": "text/x-python",
   "name": "python",
   "nbconvert_exporter": "python",
   "pygments_lexer": "ipython3",
   "version": "3.11.4"
  }
 },
 "nbformat": 4,
 "nbformat_minor": 2
}
