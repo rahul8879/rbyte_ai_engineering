{
 "cells": [
  {
   "cell_type": "markdown",
   "metadata": {},
   "source": [
    "# What is a Lambda Function?\n",
    "\n",
    "In Python, a **lambda function** is a small, anonymous function. This means it's a function without a name. It can take any number of arguments, but can only have one expression. The result of the expression is returned.\n",
    "\n",
    "**Syntax:**\n",
    "\n",
    "```python\n",
    "lambda arguments: expression\n",
    "\n"
   ]
  },
  {
   "cell_type": "markdown",
   "metadata": {},
   "source": [
    "\n",
    "## Why use lambda functions?\n",
    "\n",
    "- **Conciseness**: They allow you to write short functions in a single line of code.  \n",
    "- **Anonymity**: They are useful when you need a function for a short period and don't want to formally define it using `def`.  \n",
    "- **Higher-order functions**: They are frequently used with higher-order functions (functions that take other functions as arguments), like `map()`, `filter()`, and `sorted()`.\n"
   ]
  },
  {
   "cell_type": "markdown",
   "metadata": {},
   "source": [
    "## Zero Level: The Absolute Basics"
   ]
  },
  {
   "cell_type": "code",
   "execution_count": 1,
   "metadata": {},
   "outputs": [
    {
     "name": "stdout",
     "output_type": "stream",
     "text": [
      "15\n"
     ]
    }
   ],
   "source": [
    "def add_ten(x):\n",
    "    return x + 10\n",
    "\n",
    "print(add_ten(5))  # Output: 15"
   ]
  },
  {
   "cell_type": "code",
   "execution_count": 4,
   "metadata": {},
   "outputs": [
    {
     "data": {
      "text/plain": [
       "18"
      ]
     },
     "execution_count": 4,
     "metadata": {},
     "output_type": "execute_result"
    }
   ],
   "source": [
    "# Equivalent Lambda Function:\n",
    "y = lambda x,t: x+10+t \n",
    "y(5,3)"
   ]
  },
  {
   "cell_type": "markdown",
   "metadata": {},
   "source": [
    "## Beginner Level: Using Lambdas with Common Python Functions"
   ]
  },
  {
   "cell_type": "markdown",
   "metadata": {},
   "source": [
    "### Example 3: sort() with key\n",
    "\n",
    "Let's say you have a list of tuples, and you want to sort them based on the second element of each tuple."
   ]
  },
  {
   "cell_type": "code",
   "execution_count": 17,
   "metadata": {},
   "outputs": [
    {
     "name": "stdout",
     "output_type": "stream",
     "text": [
      "[(3, 'a'), (1, 'b'), (2, 'c')]\n"
     ]
    }
   ],
   "source": [
    "my_list = [(1, 'b'), \n",
    "           (3, 'a'), \n",
    "           (2, 'c')]  # one of the best questions in interview. \n",
    "\n",
    "def get_second_element(item):\n",
    "    return item[1]\n",
    "\n",
    "my_list.sort(key=get_second_element) # refer this for key parameters: https://docs.python.org/3/howto/sorting.html\n",
    "print(my_list)\n"
   ]
  },
  {
   "cell_type": "code",
   "execution_count": 19,
   "metadata": {},
   "outputs": [
    {
     "name": "stdout",
     "output_type": "stream",
     "text": [
      "[(3, 'a'), (1, 'b'), (2, 'c')]\n"
     ]
    }
   ],
   "source": [
    "my_list = [(1, 'b'), (3, 'a'), (2, 'c')]\n",
    "my_list.sort(key=lambda item:item[1])\n",
    "print(my_list)"
   ]
  },
  {
   "cell_type": "code",
   "execution_count": 21,
   "metadata": {},
   "outputs": [
    {
     "data": {
      "text/plain": [
       "[1, 4, 9, 16, 25]"
      ]
     },
     "execution_count": 21,
     "metadata": {},
     "output_type": "execute_result"
    }
   ],
   "source": [
    "# Example 4: map()\n",
    "numbers = [1, 2, 3, 4, 5]\n",
    "# Using def function\n",
    "def square(num):\n",
    "    return num * num\n",
    "\n",
    "list(map(square,numbers))"
   ]
  },
  {
   "cell_type": "code",
   "execution_count": 23,
   "metadata": {},
   "outputs": [
    {
     "data": {
      "text/plain": [
       "['odd', 'Even', 'odd', 'Even', 'odd']"
      ]
     },
     "execution_count": 23,
     "metadata": {},
     "output_type": "execute_result"
    }
   ],
   "source": [
    "numbers = [1, 2, 3, 4, 5]\n",
    "# Using def function\n",
    "def evenCheck(num):\n",
    "    if num%2==0:\n",
    "        return 'Even'\n",
    "    return 'odd'\n",
    "\n",
    "list(map(evenCheck,numbers))"
   ]
  },
  {
   "cell_type": "code",
   "execution_count": 25,
   "metadata": {},
   "outputs": [
    {
     "data": {
      "text/plain": [
       "[False, True, False, True, False]"
      ]
     },
     "execution_count": 25,
     "metadata": {},
     "output_type": "execute_result"
    }
   ],
   "source": [
    "list(map(lambda num: num%2==0 ,numbers))"
   ]
  },
  {
   "cell_type": "code",
   "execution_count": 26,
   "metadata": {},
   "outputs": [
    {
     "name": "stdout",
     "output_type": "stream",
     "text": [
      "[2, 4, 6, 8, 10]\n"
     ]
    }
   ],
   "source": [
    "numbers = [1, 2, 3, 4, 5, 6, 7, 8, 9, 10]\n",
    "\n",
    "# Using def function\n",
    "def is_even(num):\n",
    "    return num % 2 == 0\n",
    "even_numbers_def = list(filter(is_even, numbers))\n",
    "print(even_numbers_def) # Output: [2, 4, 6, 8, 10]\n"
   ]
  },
  {
   "cell_type": "code",
   "execution_count": 27,
   "metadata": {},
   "outputs": [
    {
     "name": "stdout",
     "output_type": "stream",
     "text": [
      "[2, 4, 6, 8, 10]\n"
     ]
    }
   ],
   "source": [
    "\n",
    "# Using lambda with filter()\n",
    "even_numbers_lambda = list(filter(lambda num: num % 2 == 0, numbers))\n",
    "print(even_numbers_lambda) # Output: [2, 4, 6, 8, 10]"
   ]
  },
  {
   "cell_type": "code",
   "execution_count": null,
   "metadata": {},
   "outputs": [],
   "source": []
  }
 ],
 "metadata": {
  "kernelspec": {
   "display_name": "rbyte-env",
   "language": "python",
   "name": "python3"
  },
  "language_info": {
   "codemirror_mode": {
    "name": "ipython",
    "version": 3
   },
   "file_extension": ".py",
   "mimetype": "text/x-python",
   "name": "python",
   "nbconvert_exporter": "python",
   "pygments_lexer": "ipython3",
   "version": "3.11.4"
  }
 },
 "nbformat": 4,
 "nbformat_minor": 2
}
