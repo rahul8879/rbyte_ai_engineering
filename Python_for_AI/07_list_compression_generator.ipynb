{
 "cells": [
  {
   "cell_type": "code",
   "execution_count": 8,
   "metadata": {},
   "outputs": [],
   "source": [
    "product_descriptions = [\"T-Shirt: $15.00\", \"Jeans: $45.50\", \"Hat: $10.00\", \"Socks: $5.25\"]\n",
    "prices = []\n",
    "for desc in product_descriptions:\n",
    "    # Find the price string after the '$' and convert it to a float\n",
    "    price_str = desc.split('$')[1]\n",
    "    prices.append(float(price_str))"
   ]
  },
  {
   "cell_type": "code",
   "execution_count": 10,
   "metadata": {},
   "outputs": [
    {
     "data": {
      "text/plain": [
       "[15.0, 45.5, 10.0, 5.25]"
      ]
     },
     "execution_count": 10,
     "metadata": {},
     "output_type": "execute_result"
    }
   ],
   "source": [
    "# The elegant way with a list comprehension\n",
    "prices_comp = [float(desc.split('$')[1]) for desc in product_descriptions]\n",
    "prices_comp"
   ]
  },
  {
   "cell_type": "code",
   "execution_count": 11,
   "metadata": {},
   "outputs": [
    {
     "name": "stdout",
     "output_type": "stream",
     "text": [
      "[93, 97, 81, 56]\n"
     ]
    }
   ],
   "source": [
    "scores = [45, 88, 92, 34, 76, 51, 29]\n",
    "\n",
    "# Using a list comprehension with a condition\n",
    "passing_scores_with_bonus = [score + 5 for score in scores if score >= 50]\n",
    "\n",
    "print(passing_scores_with_bonus)\n",
    "# Output: [93, 97, 81, 56]"
   ]
  },
  {
   "cell_type": "code",
   "execution_count": 23,
   "metadata": {},
   "outputs": [],
   "source": [
    "def find_errors(filename):\n",
    "    print(filename)\n",
    "    with open(filename, 'r') as f:\n",
    "        # The ( ) make this a generator expression\n",
    "        error_lines = (line for line in f if 'ERROR' in line) # defined\n",
    "        print(error_lines)\n",
    "        for error in error_lines:\n",
    "            # Process each error line one at a time\n",
    "            print(error.strip())"
   ]
  },
  {
   "cell_type": "code",
   "execution_count": 24,
   "metadata": {},
   "outputs": [
    {
     "name": "stdout",
     "output_type": "stream",
     "text": [
      "news_article.txt\n",
      "<generator object find_errors.<locals>.<genexpr> at 0x00000212F31739F0>\n",
      "ERROR\n"
     ]
    }
   ],
   "source": [
    "find_errors('news_article.txt')"
   ]
  },
  {
   "cell_type": "code",
   "execution_count": null,
   "metadata": {},
   "outputs": [],
   "source": []
  }
 ],
 "metadata": {
  "kernelspec": {
   "display_name": "rbyte-env",
   "language": "python",
   "name": "python3"
  },
  "language_info": {
   "codemirror_mode": {
    "name": "ipython",
    "version": 3
   },
   "file_extension": ".py",
   "mimetype": "text/x-python",
   "name": "python",
   "nbconvert_exporter": "python",
   "pygments_lexer": "ipython3",
   "version": "3.11.4"
  }
 },
 "nbformat": 4,
 "nbformat_minor": 2
}
