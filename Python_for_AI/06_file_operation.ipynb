{
 "cells": [
  {
   "cell_type": "markdown",
   "metadata": {},
   "source": [
    "# 1. Writing to a File (`'w'` Mode)\n",
    "\n",
    "The first step is to get our news article text into a file. We'll use the `'w'` mode, which stands for **write**. This mode creates a new file if it doesn't exist. If the file does exist, it will be completely overwritten.\n",
    "\n",
    "We'll use the `with open(...)` syntax, which is the recommended way to work with files in Python because it automatically handles closing the file for you, even if errors occur.\n",
    "\n",
    "## Python Example\n",
    "\n",
    "```python\n",
    "news_text = \"Breaking News: Python makes file handling simple and safe!\"\n",
    "\n",
    "with open(\"news_article.txt\", \"w\") as file:\n",
    "    file.write(news_text)\n"
   ]
  },
  {
   "cell_type": "code",
   "execution_count": 2,
   "metadata": {},
   "outputs": [],
   "source": [
    "article_text = \"\"\"A 12-year-old girl had a \n",
    "miraculous escape after falling 30 feet into \n",
    "a gorge when a zipline belt she was attached to \n",
    "broke mid-air in Manali. The entire incident was \n",
    "captured on video and has since gone viral. \n",
    "The girl from Nagpur was injured in the fall\n",
    " but is reported to be in stable condition. \n",
    " Local authorities have launched an investigation\n",
    " into the zipline operator's safety protocols.\"\"\""
   ]
  },
  {
   "cell_type": "code",
   "execution_count": 4,
   "metadata": {},
   "outputs": [
    {
     "name": "stdout",
     "output_type": "stream",
     "text": [
      "Successfully wrote the article to 'news_article.txt'\n"
     ]
    }
   ],
   "source": [
    "# Open a file named 'news_article.txt' in write mode\n",
    "try:\n",
    "    with open('news_article.txt', 'w') as file:\n",
    "        file.write(article_text)\n",
    "    print(\"Successfully wrote the article to 'news_article.txt'\")\n",
    "except IOError as e:\n",
    "    print(f\"An error occurred while writing to the file: {e}\")"
   ]
  },
  {
   "cell_type": "markdown",
   "metadata": {},
   "source": [
    "## What This Code Does:\n",
    "\n",
    "- It opens a file called `news_article.txt` in write mode (`'w'`).\n",
    "- The `file.write()` method writes the content of the `article_text` variable into the file.\n",
    "- After the `with` block is completed, the file is automatically closed.\n"
   ]
  },
  {
   "cell_type": "markdown",
   "metadata": {},
   "source": [
    "# 2. Reading from a File (`'r'` Mode)\n",
    "\n",
    "Now that we have our file, let's read its contents. The `'r'` mode stands for **read**. This is the default mode, but it's good practice to specify it.\n",
    "\n",
    "## a) Reading the Entire File at Once (`read()`)\n",
    "\n",
    "This is the simplest way to read a file. It reads the entire content into a single string.\n",
    "\n",
    "```python\n",
    "with open(\"news_article.txt\", \"r\") as file:\n",
    "    content = file.read()\n",
    "    print(content)\n"
   ]
  },
  {
   "cell_type": "code",
   "execution_count": 7,
   "metadata": {},
   "outputs": [
    {
     "name": "stdout",
     "output_type": "stream",
     "text": [
      "--- Content of the file ---\n",
      "A 12-year-old girl had a \n",
      "miraculous escape after falling 30 feet into \n",
      "a gorge when a zipline belt she was attached to \n",
      "broke mid-air in Manali. The entire incident was \n",
      "captured on video and has since gone viral. \n",
      "The girl from Nagpur was injured in the fall\n",
      " but is reported to be in stable condition. \n",
      " Local authorities have launched an investigation\n",
      " into the zipline operator's safety protocols.\n"
     ]
    }
   ],
   "source": [
    "try:\n",
    "    with open('news_article.txt', 'r') as file:\n",
    "        content = file.read()\n",
    "        print(\"--- Content of the file ---\")\n",
    "        print(content)\n",
    "except FileNotFoundError:\n",
    "    print(\"The file 'news_article.txt' was not found.\")\n",
    "except IOError as e:\n",
    "    print(f\"An error occurred while reading the file: {e}\")\n"
   ]
  },
  {
   "cell_type": "markdown",
   "metadata": {},
   "source": [
    "## b) Reading Line by Line (`readline()` and `readlines()`)\n",
    "\n",
    "Sometimes, you want to process a file one line at a time. This is more memory-efficient for very large files.\n",
    "\n",
    "- `readline()`: Reads a single line from the file.\n",
    "- `readlines()`: Reads all lines from the file and returns them as a list of strings.\n"
   ]
  },
  {
   "cell_type": "code",
   "execution_count": 16,
   "metadata": {},
   "outputs": [
    {
     "name": "stdout",
     "output_type": "stream",
     "text": [
      "\n",
      "--- Reading one line at a time ---\n",
      "First line: A 12-year-old girl had a\n",
      "Second line: miraculous escape after falling 30 feet into\n"
     ]
    }
   ],
   "source": [
    "print(\"\\n--- Reading one line at a time ---\")\n",
    "try:\n",
    "    with open('news_article.txt', 'r') as file:\n",
    "        line1 = file.readline()\n",
    "        print(\"First line:\", line1.strip()) # .strip() removes leading/trailing whitespace\n",
    "        line2 = file.readline()\n",
    "        print(\"Second line:\", line2.strip())\n",
    "except FileNotFoundError:\n",
    "    print(\"The file 'news_article.txt' was not found.\")"
   ]
  },
  {
   "cell_type": "code",
   "execution_count": 17,
   "metadata": {},
   "outputs": [
    {
     "name": "stdout",
     "output_type": "stream",
     "text": [
      "\n",
      "--- Reading all lines into a list ---\n",
      "['A 12-year-old girl had a \\n', 'miraculous escape after falling 30 feet into \\n', 'a gorge when a zipline belt she was attached to \\n', 'broke mid-air in Manali. The entire incident was \\n', 'captured on video and has since gone viral. \\n', 'The girl from Nagpur was injured in the fall\\n', ' but is reported to be in stable condition. \\n', ' Local authorities have launched an investigation\\n', \" into the zipline operator's safety protocols.\"]\n"
     ]
    }
   ],
   "source": [
    "print(\"\\n--- Reading all lines into a list ---\")\n",
    "try:\n",
    "    with open('news_article.txt', 'r') as file:\n",
    "        all_lines = file.readlines()\n",
    "        print(all_lines)\n",
    "except FileNotFoundError:\n",
    "    print(\"The file 'news_article.txt' was not found.\")"
   ]
  },
  {
   "cell_type": "markdown",
   "metadata": {},
   "source": [
    "# 3. Appending to a File (`'a'` Mode)\n",
    "\n",
    "What if you want to add content to a file without erasing what's already there? For that, you use the append mode (`'a'`).\n",
    "\n",
    "Let's add a source and a comment to our article.\n",
    "\n",
    "```python\n",
    "with open(\"news_article.txt\", \"a\") as file:\n",
    "    file.write(\"\\n\\nSource: Python News Daily\")\n",
    "    file.write(\"\\nComment: File handling in Python is easy and powerful!\")\n"
   ]
  },
  {
   "cell_type": "code",
   "execution_count": 18,
   "metadata": {},
   "outputs": [
    {
     "name": "stdout",
     "output_type": "stream",
     "text": [
      "\n",
      "Successfully appended information to 'news_article.txt'\n",
      "\n",
      "--- Updated File Content ---\n",
      "A 12-year-old girl had a \n",
      "miraculous escape after falling 30 feet into \n",
      "a gorge when a zipline belt she was attached to \n",
      "broke mid-air in Manali. The entire incident was \n",
      "captured on video and has since gone viral. \n",
      "The girl from Nagpur was injured in the fall\n",
      " but is reported to be in stable condition. \n",
      " Local authorities have launched an investigation\n",
      " into the zipline operator's safety protocols.\n",
      "\n",
      "Source: Fictional News Network\n",
      "Analysis: Incident highlights the importance of regular safety checks.\n"
     ]
    }
   ],
   "source": [
    "# Text to append to the file\n",
    "additional_info = \"\\n\\nSource: Fictional News Network\\nAnalysis: Incident highlights the importance of regular safety checks.\"\n",
    "try:\n",
    "    with open('news_article.txt', 'a') as file:\n",
    "        file.write(additional_info)\n",
    "    print(\"\\nSuccessfully appended information to 'news_article.txt'\")\n",
    "\n",
    "    # Let's read the file again to see the changes\n",
    "    with open('news_article.txt', 'r') as file:\n",
    "        updated_content = file.read()\n",
    "        print(\"\\n--- Updated File Content ---\")\n",
    "        print(updated_content)\n",
    "\n",
    "except IOError as e:\n",
    "    print(f\"An error occurred while appending to the file: {e}\")"
   ]
  },
  {
   "cell_type": "markdown",
   "metadata": {},
   "source": [
    "a) Counting Words in the Article\n",
    "Let's read the file and count how many words it contains."
   ]
  },
  {
   "cell_type": "code",
   "execution_count": 21,
   "metadata": {},
   "outputs": [
    {
     "name": "stdout",
     "output_type": "stream",
     "text": [
      "\n",
      "The article contains 80 words.\n"
     ]
    }
   ],
   "source": [
    "try:\n",
    "    with open('news_article.txt', 'r') as file:\n",
    "        content = file.read()\n",
    "        words = content.split() # Splits the string into a list of words\n",
    "        word_count = len(words)\n",
    "        print(f\"\\nThe article contains {word_count} words.\")\n",
    "except FileNotFoundError:\n",
    "    print(\"The file 'news_article.txt' was not found.\")"
   ]
  },
  {
   "cell_type": "code",
   "execution_count": 24,
   "metadata": {},
   "outputs": [
    {
     "name": "stdout",
     "output_type": "stream",
     "text": [
      "\n",
      "The article mentions 'Manali'.\n"
     ]
    }
   ],
   "source": [
    "# b) Searching for Specific Information\n",
    "try:\n",
    "    with open('news_article.txt', 'r') as file:\n",
    "        content = file.read()\n",
    "        if 'Manali' in content:\n",
    "            print(\"\\nThe article mentions 'Manali'.\")\n",
    "        else:\n",
    "            print(\"\\nThe article does not mention 'Manali'.\")\n",
    "except FileNotFoundError:\n",
    "    print(\"The file 'news_article.txt' was not found.\")"
   ]
  },
  {
   "cell_type": "markdown",
   "metadata": {},
   "source": [
    "# Replacing Text in a File\n",
    "\n",
    "You can't directly replace text in a file. The standard approach is to:\n",
    "\n",
    "- Read the original file's content.\n",
    "- Replace the text in memory.\n",
    "- Write the modified content to a new file (or overwrite the original).\n"
   ]
  },
  {
   "cell_type": "code",
   "execution_count": 25,
   "metadata": {},
   "outputs": [
    {
     "name": "stdout",
     "output_type": "stream",
     "text": [
      "\n",
      "Created a modified file 'news_article_modified.txt'\n",
      "\n",
      "--- Modified Content ---\n",
      "A 12-year-old tourist had a \n",
      "miraculous escape after falling 30 feet into \n",
      "a gorge when a zipline belt she was attached to \n",
      "broke mid-air in Manali. The entire incident was \n",
      "captured on video and has since gone viral. \n",
      "The tourist from Nagpur was injured in the fall\n",
      " but is reported to be in stable condition. \n",
      " Local authorities have launched an investigation\n",
      " into the zipline operator's safety protocols.\n",
      "\n",
      "Source: Fictional News Network\n",
      "Analysis: Incident highlights the importance of regular safety checks.\n"
     ]
    }
   ],
   "source": [
    "try:\n",
    "    with open('news_article.txt', 'r') as original_file:\n",
    "        content = original_file.read()\n",
    "\n",
    "    # Replace the text\n",
    "    modified_content = content.replace('girl', 'tourist')\n",
    "\n",
    "    # Write to a new file\n",
    "    with open('news_article_modified.txt', 'w') as modified_file:\n",
    "        modified_file.write(modified_content)\n",
    "    \n",
    "    print(\"\\nCreated a modified file 'news_article_modified.txt'\")\n",
    "    print(\"\\n--- Modified Content ---\")\n",
    "    print(modified_content)\n",
    "\n",
    "except FileNotFoundError:\n",
    "    print(\"The file 'news_article.txt' was not found.\")"
   ]
  },
  {
   "cell_type": "markdown",
   "metadata": {},
   "source": [
    "# Assignment: The Text File Processor\n",
    "\n",
    "## Goal\n",
    "\n",
    "Write a Python script that reads a text file, modifies its content, and saves the result to a new file.\n",
    "\n",
    "## Your Tasks\n",
    "\n",
    "### 1. Create an Original File\n",
    "\n",
    "First, manually create a text file named `data.txt`. Inside this file, add the following lines:\n"
   ]
  },
  {
   "cell_type": "code",
   "execution_count": 26,
   "metadata": {},
   "outputs": [],
   "source": [
    "# Your txt file should have the below info\n",
    "# Log Entry: 2024-03-15 - Status: OK\n",
    "# Log Entry: 2024-03-16 - Status: ERROR\n",
    "# Log Entry: 2024-03-17 - Status: OK\n",
    "# Log Entry: 2024-03-18 - Status: PENDING\n",
    "# Log Entry: 2024-03-19 - Status: ERROR"
   ]
  },
  {
   "cell_type": "markdown",
   "metadata": {},
   "source": [
    "\n",
    "### 2. Write the Python Script\n",
    "\n",
    "Create a Python script named `processor.py` that performs the following steps:\n",
    "\n",
    "- Reads the entire content from `data.txt`.\n",
    "- Replaces every occurrence of the word `\"ERROR\"` with `\"CRITICAL\"`.\n",
    "- Counts how many lines contain the status `\"OK\"`.\n",
    "- Appends a summary line at the end of the content, for example:  \n",
    "  `Summary: Found 2 lines with status OK.`\n",
    "- Writes the fully modified content (including the new summary line) to a new file named `data_processed.txt`.\n"
   ]
  },
  {
   "cell_type": "code",
   "execution_count": null,
   "metadata": {},
   "outputs": [],
   "source": []
  }
 ],
 "metadata": {
  "kernelspec": {
   "display_name": "rbyte-env",
   "language": "python",
   "name": "python3"
  },
  "language_info": {
   "codemirror_mode": {
    "name": "ipython",
    "version": 3
   },
   "file_extension": ".py",
   "mimetype": "text/x-python",
   "name": "python",
   "nbconvert_exporter": "python",
   "pygments_lexer": "ipython3",
   "version": "3.11.4"
  }
 },
 "nbformat": 4,
 "nbformat_minor": 2
}
