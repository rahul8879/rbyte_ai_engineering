{
 "cells": [
  {
   "cell_type": "code",
   "execution_count": 3,
   "metadata": {},
   "outputs": [
    {
     "name": "stdout",
     "output_type": "stream",
     "text": [
      "--- Age Calculator ---\n"
     ]
    },
    {
     "ename": "ZeroDivisionError",
     "evalue": "division by zero",
     "output_type": "error",
     "traceback": [
      "\u001b[31m---------------------------------------------------------------------------\u001b[39m",
      "\u001b[31mZeroDivisionError\u001b[39m                         Traceback (most recent call last)",
      "\u001b[36mCell\u001b[39m\u001b[36m \u001b[39m\u001b[32mIn[3]\u001b[39m\u001b[32m, line 14\u001b[39m\n\u001b[32m     12\u001b[39m \u001b[38;5;66;03m# This line is another potential point of failure!\u001b[39;00m\n\u001b[32m     13\u001b[39m age = current_year - birth_year\n\u001b[32m---> \u001b[39m\u001b[32m14\u001b[39m percentage_of_life = \u001b[32;43m100\u001b[39;49m\u001b[43m \u001b[49m\u001b[43m/\u001b[49m\u001b[43m \u001b[49m\u001b[43mage\u001b[49m \u001b[38;5;66;03m# Let's imagine this is for some statistical calculation\u001b[39;00m\n\u001b[32m     16\u001b[39m \u001b[38;5;28mprint\u001b[39m(\u001b[33mf\u001b[39m\u001b[33m\"\u001b[39m\u001b[33mYou are approximately \u001b[39m\u001b[38;5;132;01m{\u001b[39;00mage\u001b[38;5;132;01m}\u001b[39;00m\u001b[33m years old.\u001b[39m\u001b[33m\"\u001b[39m)\n\u001b[32m     17\u001b[39m \u001b[38;5;28mprint\u001b[39m(\u001b[33m\"\u001b[39m\u001b[33mProgram finished successfully.\u001b[39m\u001b[33m\"\u001b[39m)\n",
      "\u001b[31mZeroDivisionError\u001b[39m: division by zero"
     ]
    }
   ],
   "source": [
    "import datetime\n",
    "\n",
    "# Get the current year\n",
    "current_year = datetime.date.today().year\n",
    "\n",
    "print(\"--- Age Calculator ---\")\n",
    "birth_year_str = input(\"In what year were you born? \")\n",
    "\n",
    "# This line is a potential point of failure!\n",
    "birth_year = int(birth_year_str) \n",
    "\n",
    "# This line is another potential point of failure!\n",
    "age = current_year - birth_year\n",
    "percentage_of_life = 100 / age # Let's imagine this is for some statistical calculation\n",
    "\n",
    "print(f\"You are approximately {age} years old.\")\n",
    "print(\"Program finished successfully.\")"
   ]
  },
  {
   "cell_type": "code",
   "execution_count": 4,
   "metadata": {},
   "outputs": [
    {
     "name": "stdout",
     "output_type": "stream",
     "text": [
      "--- Age Calculator (Robust Version) ---\n",
      "Error: Please enter a valid year using numbers only (e.g., 1995).\n",
      "Program continues to run, even if an error happened.\n"
     ]
    }
   ],
   "source": [
    "import datetime\n",
    "\n",
    "current_year = datetime.date.today().year\n",
    "\n",
    "print(\"--- Age Calculator (Robust Version) ---\")\n",
    "birth_year_str = input(\"In what year were you born? \")\n",
    "\n",
    "try:\n",
    "    # We will TRY to run the code that might cause an error\n",
    "    birth_year = int(birth_year_str)\n",
    "    age = current_year - birth_year\n",
    "    percentage_of_life = 100 / age\n",
    "    \n",
    "    print(f\"You are approximately {age} years old.\")\n",
    "\n",
    "except ValueError:\n",
    "    # This block only runs if a ValueError occurs\n",
    "    print(\"Error: Please enter a valid year using numbers only (e.g., 1995).\")\n",
    "\n",
    "except ZeroDivisionError:\n",
    "    # This block only runs if a ZeroDivisionError occurs\n",
    "    print(\"Error: Age cannot be zero. We can't calculate statistics for newborns.\")\n",
    "\n",
    "print(\"Program continues to run, even if an error happened.\")"
   ]
  },
  {
   "cell_type": "code",
   "execution_count": 6,
   "metadata": {},
   "outputs": [
    {
     "name": "stdout",
     "output_type": "stream",
     "text": [
      "Please enter a valid number for your age.\n"
     ]
    }
   ],
   "source": [
    "try:\n",
    "    # Only put the one line that can cause the error here\n",
    "    age_str = input(\"Enter your age: \")\n",
    "    age = int(age_str) \n",
    "except ValueError:\n",
    "    print(\"Please enter a valid number for your age.\")\n",
    "else:\n",
    "    # This block ONLY runs if the 'try' block was successful.\n",
    "    print(\"Great, your age has been successfully recorded.\")\n",
    "    if age < 18:\n",
    "        print(\"You are a minor.\")\n",
    "    else:\n",
    "        print(\"You are an adult.\")"
   ]
  },
  {
   "cell_type": "code",
   "execution_count": 7,
   "metadata": {},
   "outputs": [
    {
     "name": "stdout",
     "output_type": "stream",
     "text": [
      "Executing finally block: Closing the file.\n"
     ]
    }
   ],
   "source": [
    "f = None # Define f outside the try block\n",
    "try:\n",
    "    f = open('my_file.txt', 'w')\n",
    "    f.write(\"Hello, World!\")\n",
    "    # Let's pretend an error happens here\n",
    "    # result = 10 / 0 \n",
    "except Exception as e:\n",
    "    print(f\"An error occurred: {e}\")\n",
    "finally:\n",
    "    # This block will ALWAYS run, ensuring the file gets closed.\n",
    "    print(\"Executing finally block: Closing the file.\")\n",
    "    if f:\n",
    "        f.close()"
   ]
  },
  {
   "cell_type": "code",
   "execution_count": 8,
   "metadata": {},
   "outputs": [
    {
     "name": "stdout",
     "output_type": "stream",
     "text": [
      "Could not set age. Reason: Age must be between 0 and 120.\n"
     ]
    }
   ],
   "source": [
    "def set_age(age):\n",
    "    if not isinstance(age, int):\n",
    "        # Raise an exception if the type is wrong\n",
    "        raise TypeError(\"Age must be an integer.\")\n",
    "    if age < 0 or age > 120:\n",
    "        # Raise an exception if the value is invalid\n",
    "        raise ValueError(\"Age must be between 0 and 120.\")\n",
    "    print(\"Age has been set successfully.\")\n",
    "\n",
    "try:\n",
    "    set_age(150)\n",
    "except (ValueError, TypeError) as e:\n",
    "    print(f\"Could not set age. Reason: {e}\")"
   ]
  },
  {
   "cell_type": "code",
   "execution_count": null,
   "metadata": {},
   "outputs": [],
   "source": []
  }
 ],
 "metadata": {
  "kernelspec": {
   "display_name": "rbyte-env",
   "language": "python",
   "name": "python3"
  },
  "language_info": {
   "codemirror_mode": {
    "name": "ipython",
    "version": 3
   },
   "file_extension": ".py",
   "mimetype": "text/x-python",
   "name": "python",
   "nbconvert_exporter": "python",
   "pygments_lexer": "ipython3",
   "version": "3.11.4"
  }
 },
 "nbformat": 4,
 "nbformat_minor": 2
}
