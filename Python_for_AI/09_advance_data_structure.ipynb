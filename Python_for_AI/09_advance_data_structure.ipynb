{
 "cells": [
  {
   "cell_type": "markdown",
   "id": "b2f4d136",
   "metadata": {},
   "source": [
    "### Real-World Example: Inventory Management System"
   ]
  },
  {
   "cell_type": "code",
   "execution_count": 7,
   "id": "23eaa001",
   "metadata": {},
   "outputs": [
    {
     "name": "stdout",
     "output_type": "stream",
     "text": [
      "--- Initial Inventory ---\n",
      "['Laptop', 'Mouse', 'Keyboard', 'Monitor', 'Webcam']\n"
     ]
    }
   ],
   "source": [
    "inventory = [\"Laptop\", \"Mouse\", \"Keyboard\", \"Monitor\", \"Webcam\"]\n",
    "\n",
    "print(\"--- Initial Inventory ---\")\n",
    "print(inventory)"
   ]
  },
  {
   "cell_type": "code",
   "execution_count": 8,
   "id": "93a88605",
   "metadata": {},
   "outputs": [
    {
     "name": "stdout",
     "output_type": "stream",
     "text": [
      "\n",
      "Added 'Headphones': ['Laptop', 'Mouse', 'Keyboard', 'Monitor', 'Webcam', 'Headphones']\n"
     ]
    }
   ],
   "source": [
    "# 1. Adding a new product (append)\n",
    "new_product = \"Headphones\"\n",
    "inventory.append(new_product)\n",
    "print(f\"\\nAdded '{new_product}': {inventory}\")\n"
   ]
  },
  {
   "cell_type": "code",
   "execution_count": 9,
   "id": "adcaf6fb",
   "metadata": {},
   "outputs": [
    {
     "name": "stdout",
     "output_type": "stream",
     "text": [
      "Removed 'Mouse' (sold): ['Laptop', 'Keyboard', 'Monitor', 'Webcam', 'Headphones']\n"
     ]
    }
   ],
   "source": [
    "# 2. A customer buys a Mouse (remove by value)\n",
    "item_sold = \"Mouse\"\n",
    "if item_sold in inventory:\n",
    "    inventory.remove(item_sold)\n",
    "    print(f\"Removed '{item_sold}' (sold): {inventory}\")\n",
    "else:\n",
    "    print(f\"'{item_sold}' not found in inventory.\")"
   ]
  },
  {
   "cell_type": "code",
   "execution_count": 4,
   "id": "4a2d1cd7",
   "metadata": {},
   "outputs": [
    {
     "name": "stdout",
     "output_type": "stream",
     "text": [
      "\n",
      "Added : ['Laptop', 'Keyboard', 'Monitor', 'Webcam', 'Headphones']\n"
     ]
    }
   ],
   "source": [
    "print(f\"\\nAdded : {inventory}\")"
   ]
  },
  {
   "cell_type": "code",
   "execution_count": 10,
   "id": "39e69f6a",
   "metadata": {},
   "outputs": [
    {
     "name": "stdout",
     "output_type": "stream",
     "text": [
      "\n",
      "Yes, 'Laptop' is in stock!\n"
     ]
    }
   ],
   "source": [
    "check_item = \"Laptop\"\n",
    "if check_item in inventory:\n",
    "    print(f\"\\nYes, '{check_item}' is in stock!\")\n",
    "else:\n",
    "    print(f\"No, '{check_item}' is out of stock.\")"
   ]
  },
  {
   "cell_type": "code",
   "execution_count": 11,
   "id": "d76bc60a",
   "metadata": {},
   "outputs": [
    {
     "name": "stdout",
     "output_type": "stream",
     "text": [
      "\n",
      "--- Inventory (Alphabetical Order) ---\n",
      "['Headphones', 'Keyboard', 'Laptop', 'Monitor', 'Webcam']\n"
     ]
    }
   ],
   "source": [
    "# 5. Displaying all products in alphabetical order (sorting)\n",
    "print(\"\\n--- Inventory (Alphabetical Order) ---\")\n",
    "inventory.sort() # Sorts the list in-place\n",
    "print(inventory)"
   ]
  },
  {
   "cell_type": "code",
   "execution_count": 12,
   "id": "d3e127d8",
   "metadata": {},
   "outputs": [],
   "source": [
    "loan_applications = [\n",
    "    {\"id\": \"LA001\", \"amount\": 50000, \"status\": \"Pending\", \"credit_score\": 720},\n",
    "    {\"id\": \"LA002\", \"amount\": 120000, \"status\": \"Approved\", \"credit_score\": 780},\n",
    "    {\"id\": \"LA003\", \"amount\": 30000, \"status\": \"Rejected\", \"credit_score\": 600},\n",
    "    {\"id\": \"LA004\", \"amount\": 80000, \"status\": \"Under Review\", \"credit_score\": 700},\n",
    "    {\"id\": \"LA005\", \"amount\": 200000, \"status\": \"Approved\", \"credit_score\": 810},\n",
    "    {\"id\": \"LA006\", \"amount\": 45000, \"status\": \"Pending\", \"credit_score\": 680},\n",
    "    {\"id\": \"LA007\", \"amount\": 150000, \"status\": \"Under Review\", \"credit_score\": 750},\n",
    "    {\"id\": \"LA008\", \"amount\": 70000, \"status\": \"Rejected\", \"credit_score\": 620},\n",
    "    {\"id\": \"LA009\", \"amount\": 90000, \"status\": \"Pending\", \"credit_score\": 710},\n",
    "    {\"id\": \"LA010\", \"amount\": 60000, \"status\": \"Approved\", \"credit_score\": 730},\n",
    "]"
   ]
  },
  {
   "cell_type": "code",
   "execution_count": 13,
   "id": "72bbb021",
   "metadata": {},
   "outputs": [
    {
     "name": "stdout",
     "output_type": "stream",
     "text": [
      "--- Initial Loan Applications ---\n",
      "{'id': 'LA001', 'amount': 50000, 'status': 'Pending', 'credit_score': 720}\n",
      "{'id': 'LA002', 'amount': 120000, 'status': 'Approved', 'credit_score': 780}\n",
      "{'id': 'LA003', 'amount': 30000, 'status': 'Rejected', 'credit_score': 600}\n",
      "{'id': 'LA004', 'amount': 80000, 'status': 'Under Review', 'credit_score': 700}\n",
      "{'id': 'LA005', 'amount': 200000, 'status': 'Approved', 'credit_score': 810}\n",
      "{'id': 'LA006', 'amount': 45000, 'status': 'Pending', 'credit_score': 680}\n",
      "{'id': 'LA007', 'amount': 150000, 'status': 'Under Review', 'credit_score': 750}\n",
      "{'id': 'LA008', 'amount': 70000, 'status': 'Rejected', 'credit_score': 620}\n",
      "{'id': 'LA009', 'amount': 90000, 'status': 'Pending', 'credit_score': 710}\n",
      "{'id': 'LA010', 'amount': 60000, 'status': 'Approved', 'credit_score': 730}\n",
      "\n",
      "==================================================\n",
      "\n"
     ]
    }
   ],
   "source": [
    "print(\"--- Initial Loan Applications ---\")\n",
    "for app in loan_applications:\n",
    "    print(app)\n",
    "\n",
    "print(\"\\n\" + \"=\"*50 + \"\\n\")"
   ]
  },
  {
   "cell_type": "code",
   "execution_count": 14,
   "id": "76896185",
   "metadata": {},
   "outputs": [
    {
     "name": "stdout",
     "output_type": "stream",
     "text": [
      "--- Pending Applications (List Comprehension) ---\n",
      "{'id': 'LA001', 'amount': 50000, 'status': 'Pending', 'credit_score': 720}\n",
      "{'id': 'LA006', 'amount': 45000, 'status': 'Pending', 'credit_score': 680}\n",
      "{'id': 'LA009', 'amount': 90000, 'status': 'Pending', 'credit_score': 710}\n"
     ]
    }
   ],
   "source": [
    "# Get all \"Pending\" applications\n",
    "pending_applications = [app for app in loan_applications if app[\"status\"] == \"Pending\"]\n",
    "print(\"--- Pending Applications (List Comprehension) ---\")\n",
    "for app in pending_applications:\n",
    "    print(app)\n"
   ]
  },
  {
   "cell_type": "code",
   "execution_count": 17,
   "id": "8369793b",
   "metadata": {},
   "outputs": [
    {
     "name": "stdout",
     "output_type": "stream",
     "text": [
      "\n",
      "High Value Loan IDs (> 100000): ['LA002', 'LA005', 'LA007']\n"
     ]
    }
   ],
   "source": [
    "# Get IDs of applications with loan amount > 100000\n",
    "high_value_loan_ids = [app[\"id\"] for app in loan_applications if app[\"amount\"] > 100000]\n",
    "print(f\"\\nHigh Value Loan IDs (> 100000): {high_value_loan_ids}\")"
   ]
  },
  {
   "cell_type": "code",
   "execution_count": 20,
   "id": "4cf50174",
   "metadata": {},
   "outputs": [
    {
     "name": "stdout",
     "output_type": "stream",
     "text": [
      "\n",
      "Under Review Application Details: [('LA004', 80000), ('LA007', 150000)]\n",
      "\n",
      "==================================================\n",
      "\n"
     ]
    }
   ],
   "source": [
    "# Get a list of tuples (id, amount) for all \"Under Review\" applications\n",
    "under_review_details = [(app[\"id\"], app[\"amount\"]) for app in loan_applications if app[\"status\"] == \"Under Review\"]\n",
    "print(f\"\\nUnder Review Application Details: {under_review_details}\")\n",
    "\n",
    "print(\"\\n\" + \"=\"*50 + \"\\n\")"
   ]
  },
  {
   "cell_type": "code",
   "execution_count": 19,
   "id": "9a6826ea",
   "metadata": {},
   "outputs": [
    {
     "name": "stdout",
     "output_type": "stream",
     "text": [
      "LA004 80000\n",
      "LA007 150000\n"
     ]
    }
   ],
   "source": [
    "for app in loan_applications:\n",
    "    if app['status']==\"Under Review\":\n",
    "        print(app['id'],app['amount'])\n",
    "    "
   ]
  },
  {
   "cell_type": "code",
   "execution_count": 21,
   "id": "82a07129",
   "metadata": {},
   "outputs": [
    {
     "name": "stdout",
     "output_type": "stream",
     "text": [
      "--- Approved Applications (Credit Score >= 750) ---\n",
      "{'id': 'LA002', 'amount': 120000, 'status': 'Approved', 'credit_score': 780}\n",
      "{'id': 'LA005', 'amount': 200000, 'status': 'Approved', 'credit_score': 810}\n"
     ]
    }
   ],
   "source": [
    "approved_high_score_apps = list(filter(lambda app: app[\"status\"] == \"Approved\" and app[\"credit_score\"] >= 750, loan_applications))\n",
    "print(\"--- Approved Applications (Credit Score >= 750) ---\")\n",
    "for app in approved_high_score_apps:\n",
    "    print(app)"
   ]
  },
  {
   "cell_type": "code",
   "execution_count": 22,
   "id": "3170b8a1",
   "metadata": {},
   "outputs": [],
   "source": [
    "def get_good_customer(loan_applications):\n",
    "    approved_customer  = list()\n",
    "    for app in loan_applications:\n",
    "        if app[\"status\"] == \"Approved\" and app[\"credit_score\"] >= 750:\n",
    "            approved_customer.append(app)\n",
    "\n",
    "    return approved_customer\n",
    "\n"
   ]
  },
  {
   "cell_type": "code",
   "execution_count": 23,
   "id": "05ab72b1",
   "metadata": {},
   "outputs": [
    {
     "data": {
      "text/plain": [
       "[{'id': 'LA002', 'amount': 120000, 'status': 'Approved', 'credit_score': 780},\n",
       " {'id': 'LA005', 'amount': 200000, 'status': 'Approved', 'credit_score': 810}]"
      ]
     },
     "execution_count": 23,
     "metadata": {},
     "output_type": "execute_result"
    }
   ],
   "source": [
    "get_good_customer(loan_applications)"
   ]
  },
  {
   "cell_type": "code",
   "execution_count": 24,
   "id": "eda59a4f",
   "metadata": {},
   "outputs": [
    {
     "name": "stdout",
     "output_type": "stream",
     "text": [
      "\n",
      "--- Loan EMIs (Map Function) ---\n",
      "{'id': 'LA001', 'amount': 50000, 'monthly_emi': 1000.0}\n",
      "{'id': 'LA002', 'amount': 120000, 'monthly_emi': 2400.0}\n",
      "{'id': 'LA003', 'amount': 30000, 'monthly_emi': 600.0}\n",
      "{'id': 'LA004', 'amount': 80000, 'monthly_emi': 1600.0}\n",
      "{'id': 'LA005', 'amount': 200000, 'monthly_emi': 4000.0}\n",
      "{'id': 'LA006', 'amount': 45000, 'monthly_emi': 900.0}\n",
      "{'id': 'LA007', 'amount': 150000, 'monthly_emi': 3000.0}\n",
      "{'id': 'LA008', 'amount': 70000, 'monthly_emi': 1400.0}\n",
      "{'id': 'LA009', 'amount': 90000, 'monthly_emi': 1800.0}\n",
      "{'id': 'LA010', 'amount': 60000, 'monthly_emi': 1200.0}\n"
     ]
    }
   ],
   "source": [
    "# Map: Calculate a hypothetical monthly EMI (simplified: just 2% of amount for demonstration)\n",
    "# Using map() with a lambda function\n",
    "# (In a real scenario, this would involve interest rates, tenure, etc.)\n",
    "emi_details = list(map(lambda app: {\"id\": app[\"id\"], \"amount\": app[\"amount\"], \"monthly_emi\": app[\"amount\"] * 0.02}, loan_applications))\n",
    "print(\"\\n--- Loan EMIs (Map Function) ---\")\n",
    "for detail in emi_details:\n",
    "    print(detail)"
   ]
  },
  {
   "cell_type": "code",
   "execution_count": 27,
   "id": "b552ed73",
   "metadata": {},
   "outputs": [
    {
     "name": "stdout",
     "output_type": "stream",
     "text": [
      "\n",
      "--- Applications Sorted by Amount (Descending) ---\n",
      "{'id': 'LA005', 'amount': 200000, 'status': 'Approved', 'credit_score': 810}\n",
      "{'id': 'LA007', 'amount': 150000, 'status': 'Under Review', 'credit_score': 750}\n",
      "{'id': 'LA002', 'amount': 120000, 'status': 'Approved', 'credit_score': 780}\n"
     ]
    }
   ],
   "source": [
    "# Sorted: Sort applications by loan amount in descending order\n",
    "# Using sorted() with a lambda key # imprtant questions for the interview\n",
    "sorted_by_amount_desc = sorted(loan_applications, key=lambda app: app[\"amount\"], reverse=True)\n",
    "print(\"\\n--- Applications Sorted by Amount (Descending) ---\")\n",
    "for app in sorted_by_amount_desc[:3]: # Show top 3\n",
    "    print(app)"
   ]
  },
  {
   "cell_type": "code",
   "execution_count": 28,
   "id": "113a92eb",
   "metadata": {},
   "outputs": [
    {
     "name": "stdout",
     "output_type": "stream",
     "text": [
      "\n",
      "--- Applications Sorted by Credit Score (Ascending) ---\n",
      "{'id': 'LA003', 'amount': 30000, 'status': 'Rejected', 'credit_score': 600}\n",
      "{'id': 'LA008', 'amount': 70000, 'status': 'Rejected', 'credit_score': 620}\n",
      "{'id': 'LA006', 'amount': 45000, 'status': 'Pending', 'credit_score': 680}\n",
      "\n",
      "==================================================\n",
      "\n"
     ]
    }
   ],
   "source": [
    "# Sorted: Sort applications by credit score in ascending order\n",
    "sorted_by_credit_asc = sorted(loan_applications, key=lambda app: app[\"credit_score\"])\n",
    "print(\"\\n--- Applications Sorted by Credit Score (Ascending) ---\")\n",
    "for app in sorted_by_credit_asc[:3]: # Show bottom 3\n",
    "    print(app)\n",
    "\n",
    "print(\"\\n\" + \"=\"*50 + \"\\n\")"
   ]
  },
  {
   "cell_type": "code",
   "execution_count": null,
   "id": "b728e2e0",
   "metadata": {},
   "outputs": [],
   "source": []
  }
 ],
 "metadata": {
  "kernelspec": {
   "display_name": "rbyte-env",
   "language": "python",
   "name": "python3"
  },
  "language_info": {
   "codemirror_mode": {
    "name": "ipython",
    "version": 3
   },
   "file_extension": ".py",
   "mimetype": "text/x-python",
   "name": "python",
   "nbconvert_exporter": "python",
   "pygments_lexer": "ipython3",
   "version": "3.11.4"
  }
 },
 "nbformat": 4,
 "nbformat_minor": 5
}
