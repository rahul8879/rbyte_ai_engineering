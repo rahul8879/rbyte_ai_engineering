{
 "cells": [
  {
   "cell_type": "markdown",
   "id": "1a4165d4",
   "metadata": {},
   "source": [
    "## Python Decorators\n",
    "\n",
    "Decorators in Python are a powerful and elegant way to modify or enhance the functionality of functions or methods without directly changing their source code. They are essentially functions that take another function as an argument, add some functionality, and then return the modified function.\n",
    "\n",
    "---\n",
    "\n",
    "### 🎂 Analogy\n",
    "\n",
    "Think of them like this:  \n",
    "You have a perfectly good **cake** (your function), but you want to add some **frosting and sprinkles** (extra functionality) without actually changing the cake recipe itself.  \n",
    "A **decorator** is like a special tool that lets you add that frosting and sprinkles in a clean and organized way.\n",
    "\n",
    "---\n",
    "\n",
    "### 🧱 Basic Structure\n",
    "\n",
    "```python\n",
    "def decorator_function(original_function):\n",
    "    def wrapper_function(*args, **kwargs):\n",
    "        # Add functionality before\n",
    "        result = original_function(*args, **kwargs)\n",
    "        # Add functionality after\n",
    "        return result\n",
    "    return wrapper_function\n"
   ]
  },
  {
   "cell_type": "code",
   "execution_count": 3,
   "id": "ad426590",
   "metadata": {},
   "outputs": [
    {
     "name": "stdout",
     "output_type": "stream",
     "text": [
      "Something is happening before the function is called.\n",
      "Hello!\n",
      "Something is happening after the function is called.\n"
     ]
    }
   ],
   "source": [
    "def my_decorator(func):\n",
    "    def wrapper():\n",
    "        print(\"Something is happening before the function is called.\")\n",
    "        func()\n",
    "        print(\"Something is happening after the function is called.\")\n",
    "    return wrapper\n",
    "\n",
    "@my_decorator\n",
    "def say_hello():\n",
    "    print(\"Hello!\")\n",
    "\n",
    "# When you call say_hello(), it's actually calling the wrapper function\n",
    "say_hello()"
   ]
  },
  {
   "cell_type": "code",
   "execution_count": 4,
   "id": "2f1ba5f0",
   "metadata": {},
   "outputs": [
    {
     "name": "stdout",
     "output_type": "stream",
     "text": [
      "Hello, Alice!\n",
      "Hello, Alice!\n",
      "Hello, Alice!\n"
     ]
    }
   ],
   "source": [
    "def repeat(num_times):\n",
    "    def decorator_repeat(func):\n",
    "        def wrapper(*args, **kwargs):\n",
    "            for _ in range(num_times):\n",
    "                func(*args, **kwargs)\n",
    "        return wrapper\n",
    "    return decorator_repeat\n",
    "\n",
    "@repeat(num_times=3)\n",
    "def greet(name):\n",
    "    print(f\"Hello, {name}!\")\n",
    "\n",
    "greet(\"Alice\")"
   ]
  },
  {
   "cell_type": "code",
   "execution_count": null,
   "id": "6044a80b",
   "metadata": {},
   "outputs": [],
   "source": []
  }
 ],
 "metadata": {
  "kernelspec": {
   "display_name": "rbyte-env",
   "language": "python",
   "name": "python3"
  },
  "language_info": {
   "codemirror_mode": {
    "name": "ipython",
    "version": 3
   },
   "file_extension": ".py",
   "mimetype": "text/x-python",
   "name": "python",
   "nbconvert_exporter": "python",
   "pygments_lexer": "ipython3",
   "version": "3.11.4"
  }
 },
 "nbformat": 4,
 "nbformat_minor": 5
}
