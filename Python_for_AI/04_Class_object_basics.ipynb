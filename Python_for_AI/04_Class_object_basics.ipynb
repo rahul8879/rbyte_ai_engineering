{
 "cells": [
  {
   "cell_type": "markdown",
   "metadata": {},
   "source": [
    "# What is Object-Oriented Programming (OOP)?\n",
    "\n",
    "Imagine you're building a house. You don't just randomly throw bricks and wood together. You have a blueprint (design) for the house, and then you build multiple houses (instances) based on that blueprint.\n",
    "\n",
    "OOP is a **programming paradigm** (a way of thinking about and structuring code) that uses **objects** to design applications and computer programs. It's like modeling real-world entities and their interactions within your code.\n",
    "\n",
    "The core idea is to break down a complex problem into smaller, manageable pieces called **objects**, which are self-contained units that combine **data (attributes)** and **behavior (actions)**.\n",
    "\n",
    "---\n",
    "\n",
    "## The Foundation: Classes and Objects\n",
    "\n",
    "### 1. Class: The Blueprint (or Template)\n",
    "\n",
    "Think of a class as a **blueprint**, a template, or a design for creating objects. It defines the common characteristics (data) and behaviors (actions) that all objects of that type will have.\n",
    "\n",
    "**Analogy:**\n",
    "\n",
    "- **Blueprint for a \"Car\"**: A car blueprint would specify that all cars have a make, model, color, number of wheels, and can start, stop, accelerate, and brake.  \n",
    "- **Cookie Cutter for a \"Star\"**: A star cookie cutter defines the shape and size of a star cookie.\n",
    "\n",
    "**In Programming Terms:**  \n",
    "A class is a logical construct that describes the **properties** (variables) and **methods** (functions) that objects of that class will possess. It doesn't actually exist in memory until you create an object from it.\n",
    "\n",
    "---\n",
    "\n",
    "### 2. Object: The Real Thing (or Instance)\n",
    "\n",
    "An **object** is an instance of a class. It's a concrete realization of the blueprint. You can create many objects from a single class.\n",
    "\n",
    "**Analogy:**\n",
    "\n",
    "- A specific **\"Car\"**: Your red Honda Civic, my blue Tesla Model 3. These are actual cars built from the \"Car\" blueprint.  \n",
    "- A specific **\"Star Cookie\"**: The actual star-shaped cookie you just baked.\n",
    "\n",
    "**In Programming Terms:**  \n",
    "When you create an object from a class, **memory is allocated** for that object.\n"
   ]
  },
  {
   "cell_type": "code",
   "execution_count": 27,
   "metadata": {},
   "outputs": [],
   "source": [
    "class Dog:\n",
    "    def __init__(self, name, breed, age, color):\n",
    "        self.name = name\n",
    "        self.breed = breed\n",
    "        self.age = age\n",
    "        self.color = color\n",
    "\n",
    "    # action or behaviour \n",
    "    def bark(self):\n",
    "        return f\"{self.name} says Woof! Woof!\"\n",
    "\n",
    "    def eat(self, food):\n",
    "        return f\"{self.name} is happily eating {food}.\"\n",
    "\n",
    "    def sleep(self):\n",
    "        return f\"{self.name} is taking a nap.\"\n",
    "\n",
    "    def wag_tail(self):\n",
    "        return f\"{self.name} wags its tail excitedly!\"\n",
    "\n",
    "    \n",
    "\n",
    "\n",
    "# Create an object (an instance of the Dog class)\n",
    "my_dog = Dog(\"Buddy\", \"Golden Retriever\", 3, \"Golden\")\n",
    "\n",
    "# Create another object\n",
    "your_dog = Dog(\"Lucy\", \"Poodle\", 5, \"White\")\n",
    "\n",
    "# Create yet another object\n",
    "neighbor_dog = Dog(\"Max\", \"German Shepherd\", 2, \"Black and Tan\")"
   ]
  },
  {
   "cell_type": "code",
   "execution_count": 28,
   "metadata": {},
   "outputs": [
    {
     "name": "stdout",
     "output_type": "stream",
     "text": [
      "My dog's name is: Buddy\n",
      "Your dog's breed is: Poodle\n",
      "Neighbor's dog's age is: 2\n"
     ]
    }
   ],
   "source": [
    "print(f\"My dog's name is: {my_dog.name}\")\n",
    "print(f\"Your dog's breed is: {your_dog.breed}\")\n",
    "print(f\"Neighbor's dog's age is: {neighbor_dog.age}\")"
   ]
  },
  {
   "cell_type": "code",
   "execution_count": 29,
   "metadata": {},
   "outputs": [
    {
     "name": "stdout",
     "output_type": "stream",
     "text": [
      "Buddy says Woof! Woof!\n",
      "Lucy is happily eating kibble.\n",
      "Max is taking a nap.\n",
      "Buddy wags its tail excitedly!\n"
     ]
    }
   ],
   "source": [
    "print(my_dog.bark())\n",
    "print(your_dog.eat(\"kibble\"))\n",
    "print(neighbor_dog.sleep())\n",
    "print(my_dog.wag_tail())"
   ]
  },
  {
   "cell_type": "code",
   "execution_count": null,
   "metadata": {},
   "outputs": [],
   "source": []
  }
 ],
 "metadata": {
  "kernelspec": {
   "display_name": "rbyte-env",
   "language": "python",
   "name": "python3"
  },
  "language_info": {
   "codemirror_mode": {
    "name": "ipython",
    "version": 3
   },
   "file_extension": ".py",
   "mimetype": "text/x-python",
   "name": "python",
   "nbconvert_exporter": "python",
   "pygments_lexer": "ipython3",
   "version": "3.11.4"
  }
 },
 "nbformat": 4,
 "nbformat_minor": 2
}
