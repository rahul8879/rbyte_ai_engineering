{
 "cells": [
  {
   "cell_type": "code",
   "execution_count": 8,
   "metadata": {},
   "outputs": [
    {
     "data": {
      "text/plain": [
       "3"
      ]
     },
     "execution_count": 8,
     "metadata": {},
     "output_type": "execute_result"
    }
   ],
   "source": [
    "# how to declare variabe\n",
    "\n",
    "\n",
    "# list of temperature of different cities\n",
    "# Mum : 34\n",
    "# Del : 32\n",
    "# Pune : 28\n",
    "\n",
    "list_temp = [34,32,28 ]\n",
    "type(list_temp)  # every data structre comes with operations\n",
    "\n",
    "# inbuilt : some functions comes with python installation\n",
    "len(list_temp)\n",
    "\n",
    "\n"
   ]
  },
  {
   "cell_type": "code",
   "execution_count": 11,
   "metadata": {},
   "outputs": [
    {
     "name": "stdout",
     "output_type": "stream",
     "text": [
      "Original list: [34, 32, 28]\n"
     ]
    }
   ],
   "source": [
    "list_temp = [34, 32, 28]\n",
    "print(f\"Original list: {list_temp}\")"
   ]
  },
  {
   "cell_type": "code",
   "execution_count": 12,
   "metadata": {},
   "outputs": [
    {
     "name": "stdout",
     "output_type": "stream",
     "text": [
      "After append(40): [34, 32, 28, 40]\n",
      "After append(10): [34, 32, 28, 40, 10]\n"
     ]
    }
   ],
   "source": [
    "list_temp.append(40)\n",
    "print(f\"After append(40): {list_temp}\")\n",
    "\n",
    "list_temp.append(10)\n",
    "print(f\"After append(10): {list_temp}\")"
   ]
  },
  {
   "cell_type": "code",
   "execution_count": 15,
   "metadata": {},
   "outputs": [
    {
     "name": "stdout",
     "output_type": "stream",
     "text": [
      "After extend: [34, 32, 28, 15, 25]\n"
     ]
    }
   ],
   "source": [
    "list_temp = [34, 32, 28]\n",
    "new_elements = (15, 25)\n",
    "list_temp.extend(new_elements)\n",
    "print(f\"After extend: {list_temp}\")"
   ]
  },
  {
   "cell_type": "code",
   "execution_count": 17,
   "metadata": {},
   "outputs": [
    {
     "name": "stdout",
     "output_type": "stream",
     "text": [
      "Original list: [34, 32, 28]\n",
      "After insert(1, 30): [34, 30, 32, 28]\n"
     ]
    }
   ],
   "source": [
    "list_temp = [34, 32, 28] # [34, 30, 32, 28] \n",
    "print(f\"Original list: {list_temp}\")\n",
    "\n",
    "list_temp.insert(1, 30) # Insert 30 at index 1\n",
    "print(f\"After insert(1, 30): {list_temp}\")"
   ]
  },
  {
   "cell_type": "code",
   "execution_count": 18,
   "metadata": {},
   "outputs": [
    {
     "name": "stdout",
     "output_type": "stream",
     "text": [
      "After insert(0, 50): [50, 34, 30, 32, 28]\n"
     ]
    }
   ],
   "source": [
    "list_temp.insert(0, 50) # Insert 50 at the beginning (index 0)\n",
    "print(f\"After insert(0, 50): {list_temp}\")"
   ]
  },
  {
   "cell_type": "code",
   "execution_count": 19,
   "metadata": {},
   "outputs": [
    {
     "name": "stdout",
     "output_type": "stream",
     "text": [
      "After insert(len(list_temp), 100): [50, 34, 30, 32, 28, 100]\n"
     ]
    }
   ],
   "source": [
    "list_temp.insert(len(list_temp), 100) # Insert 100 at the end (equivalent to append)\n",
    "print(f\"After insert(len(list_temp), 100): {list_temp}\")"
   ]
  },
  {
   "cell_type": "code",
   "execution_count": 21,
   "metadata": {},
   "outputs": [
    {
     "name": "stdout",
     "output_type": "stream",
     "text": [
      "Original list: [34, 32, 28, 32, 40]\n",
      "After remove(32): [34, 28, 32, 40]\n"
     ]
    }
   ],
   "source": [
    "list_temp = [34, 32, 28, 32, 40]\n",
    "print(f\"Original list: {list_temp}\")\n",
    "\n",
    "list_temp.remove(32) # Removes the first 32\n",
    "print(f\"After remove(32): {list_temp}\")"
   ]
  },
  {
   "cell_type": "code",
   "execution_count": 22,
   "metadata": {},
   "outputs": [
    {
     "name": "stdout",
     "output_type": "stream",
     "text": [
      "Original list: [34, 32, 28, 40, 10]\n",
      "After pop(2): [34, 32, 40, 10], Removed element: 28\n"
     ]
    }
   ],
   "source": [
    "list_temp = [34, 32, 28, 40, 10]\n",
    "print(f\"Original list: {list_temp}\")\n",
    "\n",
    "removed_element = list_temp.pop(2) # Removes element at index 2 (which is 28)\n",
    "print(f\"After pop(2): {list_temp}, Removed element: {removed_element}\")"
   ]
  },
  {
   "cell_type": "code",
   "execution_count": 23,
   "metadata": {},
   "outputs": [
    {
     "name": "stdout",
     "output_type": "stream",
     "text": [
      "After pop(): [34, 32, 40], Last element removed: 10\n"
     ]
    }
   ],
   "source": [
    "last_element = list_temp.pop() # Removes the last element\n",
    "print(f\"After pop(): {list_temp}, Last element removed: {last_element}\")"
   ]
  },
  {
   "cell_type": "code",
   "execution_count": 24,
   "metadata": {},
   "outputs": [
    {
     "name": "stdout",
     "output_type": "stream",
     "text": [
      "Original list: [34, 32, 28, 40, 10, 50]\n",
      "After del list_temp[1]: [34, 28, 40, 10, 50]\n"
     ]
    }
   ],
   "source": [
    "list_temp = [34, 32, 28, 40, 10, 50]\n",
    "print(f\"Original list: {list_temp}\")\n",
    "\n",
    "del list_temp[1] # Deletes element at index 1 (which is 32)\n",
    "print(f\"After del list_temp[1]: {list_temp}\")"
   ]
  },
  {
   "cell_type": "code",
   "execution_count": 33,
   "metadata": {},
   "outputs": [
    {
     "name": "stdout",
     "output_type": "stream",
     "text": [
      "After del list_temp[2:4]: [34, 28, 50]\n"
     ]
    }
   ],
   "source": [
    "del list_temp[2:4] # Deletes elements from index 2 up to (but not including) index 4\n",
    "print(f\"After del list_temp[2:4]: {list_temp}\")"
   ]
  },
  {
   "cell_type": "code",
   "execution_count": 34,
   "metadata": {},
   "outputs": [],
   "source": [
    "# You can also delete the entire list\n",
    "del list_temp\n",
    "# print(list_temp) # This would result in a NameError as list_temp is no longer defined"
   ]
  },
  {
   "cell_type": "code",
   "execution_count": 36,
   "metadata": {},
   "outputs": [
    {
     "name": "stdout",
     "output_type": "stream",
     "text": [
      "Original list: [34, 32, 28]\n",
      "After clear(): []\n"
     ]
    }
   ],
   "source": [
    "list_temp = [34, 32, 28]\n",
    "print(f\"Original list: {list_temp}\")\n",
    "\n",
    "list_temp.clear()\n",
    "print(f\"After clear(): {list_temp}\")"
   ]
  },
  {
   "cell_type": "code",
   "execution_count": 40,
   "metadata": {},
   "outputs": [
    {
     "name": "stdout",
     "output_type": "stream",
     "text": [
      "Original list: [34, 32, 28]\n",
      "After list_temp[0] = 100: [100, 32, 28]\n"
     ]
    }
   ],
   "source": [
    "list_temp = [34, 32, 28]\n",
    "print(f\"Original list: {list_temp}\")\n",
    "list_temp[0] = 100 # Change the first element\n",
    "print(f\"After list_temp[0] = 100: {list_temp}\")\n",
    "\n"
   ]
  },
  {
   "cell_type": "code",
   "execution_count": 41,
   "metadata": {},
   "outputs": [
    {
     "name": "stdout",
     "output_type": "stream",
     "text": [
      "Original list: [34, 32, 28, 40, 10]\n"
     ]
    }
   ],
   "source": [
    "# Slicing for Multiple Element Modification\n",
    "\n",
    "list_temp = [34, 32, 28, 40, 10]\n",
    "print(f\"Original list: {list_temp}\")"
   ]
  },
  {
   "cell_type": "code",
   "execution_count": 42,
   "metadata": {},
   "outputs": [
    {
     "name": "stdout",
     "output_type": "stream",
     "text": [
      "After list_temp[1:3] = [90, 91, 92]: [34, 90, 91, 92, 40, 10]\n"
     ]
    }
   ],
   "source": [
    "\n",
    "list_temp[1:3] = [90, 91, 92] # Replace elements at index 1 and 2 with three new elements\n",
    "print(f\"After list_temp[1:3] = [90, 91, 92]: {list_temp}\")"
   ]
  },
  {
   "cell_type": "code",
   "execution_count": 43,
   "metadata": {},
   "outputs": [
    {
     "name": "stdout",
     "output_type": "stream",
     "text": [
      "After list_temp[0:2] = [1, 2]: [1, 2, 91, 92, 40, 10]\n"
     ]
    }
   ],
   "source": [
    "list_temp[0:2] =  [1, 2] #Replace elements at index 0 and 1 with two new elements\n",
    "print(f\"After list_temp[0:2] = [1, 2]: {list_temp}\")"
   ]
  },
  {
   "cell_type": "code",
   "execution_count": 44,
   "metadata": {},
   "outputs": [
    {
     "name": "stdout",
     "output_type": "stream",
     "text": [
      "Original list: [34, 12, 28, 5, 40]\n",
      "After sort(): [5, 12, 28, 34, 40]\n"
     ]
    }
   ],
   "source": [
    "list_temp = [34, 12, 28, 5, 40]\n",
    "print(f\"Original list: {list_temp}\")\n",
    "\n",
    "list_temp.sort()\n",
    "print(f\"After sort(): {list_temp}\")"
   ]
  },
  {
   "cell_type": "code",
   "execution_count": 45,
   "metadata": {},
   "outputs": [
    {
     "name": "stdout",
     "output_type": "stream",
     "text": [
      "After sort(reverse=True): [40, 34, 28, 12, 5]\n"
     ]
    }
   ],
   "source": [
    "list_temp.sort(reverse=True) # Sort in descending order\n",
    "print(f\"After sort(reverse=True): {list_temp}\")"
   ]
  },
  {
   "cell_type": "code",
   "execution_count": 46,
   "metadata": {},
   "outputs": [
    {
     "name": "stdout",
     "output_type": "stream",
     "text": [
      "Sorted string list: ['apple', 'banana', 'cherry']\n"
     ]
    }
   ],
   "source": [
    "# You can also sort lists of strings\n",
    "string_list = [\"banana\", \"apple\", \"cherry\"]\n",
    "string_list.sort()\n",
    "print(f\"Sorted string list: {string_list}\")"
   ]
  },
  {
   "cell_type": "code",
   "execution_count": 47,
   "metadata": {},
   "outputs": [
    {
     "name": "stdout",
     "output_type": "stream",
     "text": [
      "Original list: [34, 12, 28, 5, 40]\n",
      "Original list after sorted(): [34, 12, 28, 5, 40]\n",
      "New sorted list: [5, 12, 28, 34, 40]\n"
     ]
    }
   ],
   "source": [
    "list_temp = [34, 12, 28, 5, 40]\n",
    "print(f\"Original list: {list_temp}\")\n",
    "\n",
    "sorted_list = sorted(list_temp)\n",
    "print(f\"Original list after sorted(): {list_temp}\") # Original list remains unchanged\n",
    "print(f\"New sorted list: {sorted_list}\")"
   ]
  },
  {
   "cell_type": "code",
   "execution_count": 48,
   "metadata": {},
   "outputs": [
    {
     "name": "stdout",
     "output_type": "stream",
     "text": [
      "New reverse sorted list: [40, 34, 28, 12, 5]\n"
     ]
    }
   ],
   "source": [
    "reverse_sorted_list = sorted(list_temp, reverse=True)\n",
    "print(f\"New reverse sorted list: {reverse_sorted_list}\")"
   ]
  },
  {
   "cell_type": "code",
   "execution_count": null,
   "metadata": {},
   "outputs": [],
   "source": []
  }
 ],
 "metadata": {
  "kernelspec": {
   "display_name": "rbyte-env",
   "language": "python",
   "name": "python3"
  },
  "language_info": {
   "codemirror_mode": {
    "name": "ipython",
    "version": 3
   },
   "file_extension": ".py",
   "mimetype": "text/x-python",
   "name": "python",
   "nbconvert_exporter": "python",
   "pygments_lexer": "ipython3",
   "version": "3.11.4"
  }
 },
 "nbformat": 4,
 "nbformat_minor": 2
}
