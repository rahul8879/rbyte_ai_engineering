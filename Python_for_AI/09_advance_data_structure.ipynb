{
 "cells": [
  {
   "cell_type": "markdown",
   "id": "b2f4d136",
   "metadata": {},
   "source": [
    "### Real-World Example: Inventory Management System"
   ]
  },
  {
   "cell_type": "code",
   "execution_count": 7,
   "id": "23eaa001",
   "metadata": {},
   "outputs": [
    {
     "name": "stdout",
     "output_type": "stream",
     "text": [
      "--- Initial Inventory ---\n",
      "['Laptop', 'Mouse', 'Keyboard', 'Monitor', 'Webcam']\n"
     ]
    }
   ],
   "source": [
    "inventory = [\"Laptop\", \"Mouse\", \"Keyboard\", \"Monitor\", \"Webcam\"]\n",
    "\n",
    "print(\"--- Initial Inventory ---\")\n",
    "print(inventory)"
   ]
  },
  {
   "cell_type": "code",
   "execution_count": 8,
   "id": "93a88605",
   "metadata": {},
   "outputs": [
    {
     "name": "stdout",
     "output_type": "stream",
     "text": [
      "\n",
      "Added 'Headphones': ['Laptop', 'Mouse', 'Keyboard', 'Monitor', 'Webcam', 'Headphones']\n"
     ]
    }
   ],
   "source": [
    "# 1. Adding a new product (append)\n",
    "new_product = \"Headphones\"\n",
    "inventory.append(new_product)\n",
    "print(f\"\\nAdded '{new_product}': {inventory}\")\n"
   ]
  },
  {
   "cell_type": "code",
   "execution_count": 9,
   "id": "adcaf6fb",
   "metadata": {},
   "outputs": [
    {
     "name": "stdout",
     "output_type": "stream",
     "text": [
      "Removed 'Mouse' (sold): ['Laptop', 'Keyboard', 'Monitor', 'Webcam', 'Headphones']\n"
     ]
    }
   ],
   "source": [
    "# 2. A customer buys a Mouse (remove by value)\n",
    "item_sold = \"Mouse\"\n",
    "if item_sold in inventory:\n",
    "    inventory.remove(item_sold)\n",
    "    print(f\"Removed '{item_sold}' (sold): {inventory}\")\n",
    "else:\n",
    "    print(f\"'{item_sold}' not found in inventory.\")"
   ]
  },
  {
   "cell_type": "code",
   "execution_count": 4,
   "id": "4a2d1cd7",
   "metadata": {},
   "outputs": [
    {
     "name": "stdout",
     "output_type": "stream",
     "text": [
      "\n",
      "Added : ['Laptop', 'Keyboard', 'Monitor', 'Webcam', 'Headphones']\n"
     ]
    }
   ],
   "source": [
    "print(f\"\\nAdded : {inventory}\")"
   ]
  },
  {
   "cell_type": "code",
   "execution_count": 10,
   "id": "39e69f6a",
   "metadata": {},
   "outputs": [
    {
     "name": "stdout",
     "output_type": "stream",
     "text": [
      "\n",
      "Yes, 'Laptop' is in stock!\n"
     ]
    }
   ],
   "source": [
    "check_item = \"Laptop\"\n",
    "if check_item in inventory:\n",
    "    print(f\"\\nYes, '{check_item}' is in stock!\")\n",
    "else:\n",
    "    print(f\"No, '{check_item}' is out of stock.\")"
   ]
  },
  {
   "cell_type": "code",
   "execution_count": 11,
   "id": "d76bc60a",
   "metadata": {},
   "outputs": [
    {
     "name": "stdout",
     "output_type": "stream",
     "text": [
      "\n",
      "--- Inventory (Alphabetical Order) ---\n",
      "['Headphones', 'Keyboard', 'Laptop', 'Monitor', 'Webcam']\n"
     ]
    }
   ],
   "source": [
    "# 5. Displaying all products in alphabetical order (sorting)\n",
    "print(\"\\n--- Inventory (Alphabetical Order) ---\")\n",
    "inventory.sort() # Sorts the list in-place\n",
    "print(inventory)"
   ]
  },
  {
   "cell_type": "code",
   "execution_count": 12,
   "id": "d3e127d8",
   "metadata": {},
   "outputs": [],
   "source": [
    "loan_applications = [\n",
    "    {\"id\": \"LA001\", \"amount\": 50000, \"status\": \"Pending\", \"credit_score\": 720},\n",
    "    {\"id\": \"LA002\", \"amount\": 120000, \"status\": \"Approved\", \"credit_score\": 780},\n",
    "    {\"id\": \"LA003\", \"amount\": 30000, \"status\": \"Rejected\", \"credit_score\": 600},\n",
    "    {\"id\": \"LA004\", \"amount\": 80000, \"status\": \"Under Review\", \"credit_score\": 700},\n",
    "    {\"id\": \"LA005\", \"amount\": 200000, \"status\": \"Approved\", \"credit_score\": 810},\n",
    "    {\"id\": \"LA006\", \"amount\": 45000, \"status\": \"Pending\", \"credit_score\": 680},\n",
    "    {\"id\": \"LA007\", \"amount\": 150000, \"status\": \"Under Review\", \"credit_score\": 750},\n",
    "    {\"id\": \"LA008\", \"amount\": 70000, \"status\": \"Rejected\", \"credit_score\": 620},\n",
    "    {\"id\": \"LA009\", \"amount\": 90000, \"status\": \"Pending\", \"credit_score\": 710},\n",
    "    {\"id\": \"LA010\", \"amount\": 60000, \"status\": \"Approved\", \"credit_score\": 730},\n",
    "]"
   ]
  },
  {
   "cell_type": "code",
   "execution_count": 13,
   "id": "72bbb021",
   "metadata": {},
   "outputs": [
    {
     "name": "stdout",
     "output_type": "stream",
     "text": [
      "--- Initial Loan Applications ---\n",
      "{'id': 'LA001', 'amount': 50000, 'status': 'Pending', 'credit_score': 720}\n",
      "{'id': 'LA002', 'amount': 120000, 'status': 'Approved', 'credit_score': 780}\n",
      "{'id': 'LA003', 'amount': 30000, 'status': 'Rejected', 'credit_score': 600}\n",
      "{'id': 'LA004', 'amount': 80000, 'status': 'Under Review', 'credit_score': 700}\n",
      "{'id': 'LA005', 'amount': 200000, 'status': 'Approved', 'credit_score': 810}\n",
      "{'id': 'LA006', 'amount': 45000, 'status': 'Pending', 'credit_score': 680}\n",
      "{'id': 'LA007', 'amount': 150000, 'status': 'Under Review', 'credit_score': 750}\n",
      "{'id': 'LA008', 'amount': 70000, 'status': 'Rejected', 'credit_score': 620}\n",
      "{'id': 'LA009', 'amount': 90000, 'status': 'Pending', 'credit_score': 710}\n",
      "{'id': 'LA010', 'amount': 60000, 'status': 'Approved', 'credit_score': 730}\n",
      "\n",
      "==================================================\n",
      "\n"
     ]
    }
   ],
   "source": [
    "print(\"--- Initial Loan Applications ---\")\n",
    "for app in loan_applications:\n",
    "    print(app)\n",
    "\n",
    "print(\"\\n\" + \"=\"*50 + \"\\n\")"
   ]
  },
  {
   "cell_type": "code",
   "execution_count": 14,
   "id": "76896185",
   "metadata": {},
   "outputs": [
    {
     "name": "stdout",
     "output_type": "stream",
     "text": [
      "--- Pending Applications (List Comprehension) ---\n",
      "{'id': 'LA001', 'amount': 50000, 'status': 'Pending', 'credit_score': 720}\n",
      "{'id': 'LA006', 'amount': 45000, 'status': 'Pending', 'credit_score': 680}\n",
      "{'id': 'LA009', 'amount': 90000, 'status': 'Pending', 'credit_score': 710}\n"
     ]
    }
   ],
   "source": [
    "# Get all \"Pending\" applications\n",
    "pending_applications = [app for app in loan_applications if app[\"status\"] == \"Pending\"]\n",
    "print(\"--- Pending Applications (List Comprehension) ---\")\n",
    "for app in pending_applications:\n",
    "    print(app)\n"
   ]
  },
  {
   "cell_type": "code",
   "execution_count": 17,
   "id": "8369793b",
   "metadata": {},
   "outputs": [
    {
     "name": "stdout",
     "output_type": "stream",
     "text": [
      "\n",
      "High Value Loan IDs (> 100000): ['LA002', 'LA005', 'LA007']\n"
     ]
    }
   ],
   "source": [
    "# Get IDs of applications with loan amount > 100000\n",
    "high_value_loan_ids = [app[\"id\"] for app in loan_applications if app[\"amount\"] > 100000]\n",
    "print(f\"\\nHigh Value Loan IDs (> 100000): {high_value_loan_ids}\")"
   ]
  },
  {
   "cell_type": "code",
   "execution_count": 20,
   "id": "4cf50174",
   "metadata": {},
   "outputs": [
    {
     "name": "stdout",
     "output_type": "stream",
     "text": [
      "\n",
      "Under Review Application Details: [('LA004', 80000), ('LA007', 150000)]\n",
      "\n",
      "==================================================\n",
      "\n"
     ]
    }
   ],
   "source": [
    "# Get a list of tuples (id, amount) for all \"Under Review\" applications\n",
    "under_review_details = [(app[\"id\"], app[\"amount\"]) for app in loan_applications if app[\"status\"] == \"Under Review\"]\n",
    "print(f\"\\nUnder Review Application Details: {under_review_details}\")\n",
    "\n",
    "print(\"\\n\" + \"=\"*50 + \"\\n\")"
   ]
  },
  {
   "cell_type": "code",
   "execution_count": 19,
   "id": "9a6826ea",
   "metadata": {},
   "outputs": [
    {
     "name": "stdout",
     "output_type": "stream",
     "text": [
      "LA004 80000\n",
      "LA007 150000\n"
     ]
    }
   ],
   "source": [
    "for app in loan_applications:\n",
    "    if app['status']==\"Under Review\":\n",
    "        print(app['id'],app['amount'])\n",
    "    "
   ]
  },
  {
   "cell_type": "code",
   "execution_count": 21,
   "id": "82a07129",
   "metadata": {},
   "outputs": [
    {
     "name": "stdout",
     "output_type": "stream",
     "text": [
      "--- Approved Applications (Credit Score >= 750) ---\n",
      "{'id': 'LA002', 'amount': 120000, 'status': 'Approved', 'credit_score': 780}\n",
      "{'id': 'LA005', 'amount': 200000, 'status': 'Approved', 'credit_score': 810}\n"
     ]
    }
   ],
   "source": [
    "approved_high_score_apps = list(filter(lambda app: app[\"status\"] == \"Approved\" and app[\"credit_score\"] >= 750, loan_applications))\n",
    "print(\"--- Approved Applications (Credit Score >= 750) ---\")\n",
    "for app in approved_high_score_apps:\n",
    "    print(app)"
   ]
  },
  {
   "cell_type": "code",
   "execution_count": 22,
   "id": "3170b8a1",
   "metadata": {},
   "outputs": [],
   "source": [
    "def get_good_customer(loan_applications):\n",
    "    approved_customer  = list()\n",
    "    for app in loan_applications:\n",
    "        if app[\"status\"] == \"Approved\" and app[\"credit_score\"] >= 750:\n",
    "            approved_customer.append(app)\n",
    "\n",
    "    return approved_customer\n",
    "\n"
   ]
  },
  {
   "cell_type": "code",
   "execution_count": 23,
   "id": "05ab72b1",
   "metadata": {},
   "outputs": [
    {
     "data": {
      "text/plain": [
       "[{'id': 'LA002', 'amount': 120000, 'status': 'Approved', 'credit_score': 780},\n",
       " {'id': 'LA005', 'amount': 200000, 'status': 'Approved', 'credit_score': 810}]"
      ]
     },
     "execution_count": 23,
     "metadata": {},
     "output_type": "execute_result"
    }
   ],
   "source": [
    "get_good_customer(loan_applications)"
   ]
  },
  {
   "cell_type": "code",
   "execution_count": 24,
   "id": "eda59a4f",
   "metadata": {},
   "outputs": [
    {
     "name": "stdout",
     "output_type": "stream",
     "text": [
      "\n",
      "--- Loan EMIs (Map Function) ---\n",
      "{'id': 'LA001', 'amount': 50000, 'monthly_emi': 1000.0}\n",
      "{'id': 'LA002', 'amount': 120000, 'monthly_emi': 2400.0}\n",
      "{'id': 'LA003', 'amount': 30000, 'monthly_emi': 600.0}\n",
      "{'id': 'LA004', 'amount': 80000, 'monthly_emi': 1600.0}\n",
      "{'id': 'LA005', 'amount': 200000, 'monthly_emi': 4000.0}\n",
      "{'id': 'LA006', 'amount': 45000, 'monthly_emi': 900.0}\n",
      "{'id': 'LA007', 'amount': 150000, 'monthly_emi': 3000.0}\n",
      "{'id': 'LA008', 'amount': 70000, 'monthly_emi': 1400.0}\n",
      "{'id': 'LA009', 'amount': 90000, 'monthly_emi': 1800.0}\n",
      "{'id': 'LA010', 'amount': 60000, 'monthly_emi': 1200.0}\n"
     ]
    }
   ],
   "source": [
    "# Map: Calculate a hypothetical monthly EMI (simplified: just 2% of amount for demonstration)\n",
    "# Using map() with a lambda function\n",
    "# (In a real scenario, this would involve interest rates, tenure, etc.)\n",
    "emi_details = list(map(lambda app: {\"id\": app[\"id\"], \"amount\": app[\"amount\"], \"monthly_emi\": app[\"amount\"] * 0.02}, loan_applications))\n",
    "print(\"\\n--- Loan EMIs (Map Function) ---\")\n",
    "for detail in emi_details:\n",
    "    print(detail)"
   ]
  },
  {
   "cell_type": "code",
   "execution_count": 27,
   "id": "b552ed73",
   "metadata": {},
   "outputs": [
    {
     "name": "stdout",
     "output_type": "stream",
     "text": [
      "\n",
      "--- Applications Sorted by Amount (Descending) ---\n",
      "{'id': 'LA005', 'amount': 200000, 'status': 'Approved', 'credit_score': 810}\n",
      "{'id': 'LA007', 'amount': 150000, 'status': 'Under Review', 'credit_score': 750}\n",
      "{'id': 'LA002', 'amount': 120000, 'status': 'Approved', 'credit_score': 780}\n"
     ]
    }
   ],
   "source": [
    "# Sorted: Sort applications by loan amount in descending order\n",
    "# Using sorted() with a lambda key # imprtant questions for the interview\n",
    "sorted_by_amount_desc = sorted(loan_applications, key=lambda app: app[\"amount\"], reverse=True)\n",
    "print(\"\\n--- Applications Sorted by Amount (Descending) ---\")\n",
    "for app in sorted_by_amount_desc[:3]: # Show top 3\n",
    "    print(app)"
   ]
  },
  {
   "cell_type": "code",
   "execution_count": 28,
   "id": "113a92eb",
   "metadata": {},
   "outputs": [
    {
     "name": "stdout",
     "output_type": "stream",
     "text": [
      "\n",
      "--- Applications Sorted by Credit Score (Ascending) ---\n",
      "{'id': 'LA003', 'amount': 30000, 'status': 'Rejected', 'credit_score': 600}\n",
      "{'id': 'LA008', 'amount': 70000, 'status': 'Rejected', 'credit_score': 620}\n",
      "{'id': 'LA006', 'amount': 45000, 'status': 'Pending', 'credit_score': 680}\n",
      "\n",
      "==================================================\n",
      "\n"
     ]
    }
   ],
   "source": [
    "# Sorted: Sort applications by credit score in ascending order\n",
    "sorted_by_credit_asc = sorted(loan_applications, key=lambda app: app[\"credit_score\"])\n",
    "print(\"\\n--- Applications Sorted by Credit Score (Ascending) ---\")\n",
    "for app in sorted_by_credit_asc[:3]: # Show bottom 3\n",
    "    print(app)\n",
    "\n",
    "print(\"\\n\" + \"=\"*50 + \"\\n\")"
   ]
  },
  {
   "cell_type": "code",
   "execution_count": 40,
   "id": "b728e2e0",
   "metadata": {},
   "outputs": [],
   "source": [
    "# Storing product prices in an e-commerce store (product_id -> price)\n",
    "product_prices = {\n",
    "    \"PROD001\": 29.99,\n",
    "    \"PROD002\": 12.50,\n",
    "    \"PROD003\": 75.00,\n",
    "    \"PROD004\": 5.25\n",
    "}\n",
    "\n",
    "# Storing user profiles (username -> user_details_dict)\n",
    "user_profiles = {\n",
    "    \"alice123\": {\"name\": \"Alice\", \"email\": \"alice@example.com\", \"status\": \"active\"},\n",
    "    \"bob_builder\": {\"name\": \"Bob\", \"email\": \"bob@example.com\", \"status\": \"inactive\"}\n",
    "}"
   ]
  },
  {
   "cell_type": "code",
   "execution_count": 31,
   "id": "671dab66",
   "metadata": {},
   "outputs": [
    {
     "data": {
      "text/plain": [
       "'Alice'"
      ]
     },
     "execution_count": 31,
     "metadata": {},
     "output_type": "execute_result"
    }
   ],
   "source": [
    "user_profiles['alice123']['name']"
   ]
  },
  {
   "cell_type": "code",
   "execution_count": 32,
   "id": "e71ce3f1",
   "metadata": {},
   "outputs": [
    {
     "name": "stdout",
     "output_type": "stream",
     "text": [
      "Price of PROD002: 12.5\n",
      "Alice's email: alice@example.com\n",
      "Price of nonexistent product: None\n",
      "Price of nonexistent product with default: 0.0\n"
     ]
    }
   ],
   "source": [
    "# Get the price of PROD002\n",
    "price_of_prod002 = product_prices[\"PROD002\"] # 12.50\n",
    "print(f\"Price of PROD002: {price_of_prod002}\")\n",
    "\n",
    "# Get email of alice123\n",
    "alice_email = user_profiles[\"alice123\"][\"email\"] # alice@example.com\n",
    "print(f\"Alice's email: {alice_email}\")\n",
    "\n",
    "# Using .get() for safe access (returns None if key not found, or a default value)\n",
    "price_of_nonexistent = product_prices.get(\"PROD005\") # None\n",
    "price_with_default = product_prices.get(\"PROD006\", 0.00) # 0.00\n",
    "print(f\"Price of nonexistent product: {price_of_nonexistent}\")\n",
    "print(f\"Price of nonexistent product with default: {price_with_default}\")"
   ]
  },
  {
   "cell_type": "code",
   "execution_count": 34,
   "id": "bc5fdd9d",
   "metadata": {},
   "outputs": [
    {
     "data": {
      "text/plain": [
       "{'PROD001': 20.1,\n",
       " 'PROD002': 12.5,\n",
       " 'PROD003': 75.0,\n",
       " 'PROD004': 5.25,\n",
       " 'PROD005': 10.1}"
      ]
     },
     "execution_count": 34,
     "metadata": {},
     "output_type": "execute_result"
    }
   ],
   "source": [
    "product_prices['PROD001']=20.1\n",
    "product_prices['PROD005']=10.1\n",
    "product_prices"
   ]
  },
  {
   "cell_type": "code",
   "execution_count": 35,
   "id": "a20decb6",
   "metadata": {},
   "outputs": [
    {
     "name": "stdout",
     "output_type": "stream",
     "text": [
      "Product prices after deleting PROD004: {'PROD001': 20.1, 'PROD002': 12.5, 'PROD003': 75.0, 'PROD004': 5.25}\n"
     ]
    }
   ],
   "source": [
    "del product_prices[\"PROD005\"]\n",
    "print(f\"Product prices after deleting PROD004: {product_prices}\")"
   ]
  },
  {
   "cell_type": "code",
   "execution_count": 36,
   "id": "d4d0ce88",
   "metadata": {},
   "outputs": [
    {
     "data": {
      "text/plain": [
       "{'PROD001': 20.1, 'PROD002': 12.5, 'PROD003': 75.0, 'PROD004': 5.25}"
      ]
     },
     "execution_count": 36,
     "metadata": {},
     "output_type": "execute_result"
    }
   ],
   "source": [
    "product_prices"
   ]
  },
  {
   "cell_type": "code",
   "execution_count": 37,
   "id": "61380dbc",
   "metadata": {},
   "outputs": [],
   "source": [
    "product_prices.clear()"
   ]
  },
  {
   "cell_type": "code",
   "execution_count": 38,
   "id": "5a1f68cc",
   "metadata": {},
   "outputs": [
    {
     "data": {
      "text/plain": [
       "{}"
      ]
     },
     "execution_count": 38,
     "metadata": {},
     "output_type": "execute_result"
    }
   ],
   "source": [
    "product_prices"
   ]
  },
  {
   "cell_type": "code",
   "execution_count": 41,
   "id": "4da1abe0",
   "metadata": {},
   "outputs": [
    {
     "name": "stdout",
     "output_type": "stream",
     "text": [
      "Is PROD003 present? True\n",
      "Is PROD007 present? False\n"
     ]
    }
   ],
   "source": [
    "is_prod003_present = \"PROD003\" in product_prices # True\n",
    "is_prod007_present = \"PROD007\" in product_prices # False\n",
    "print(f\"Is PROD003 present? {is_prod003_present}\")\n",
    "print(f\"Is PROD007 present? {is_prod007_present}\")"
   ]
  },
  {
   "cell_type": "code",
   "execution_count": 44,
   "id": "639ef9cf",
   "metadata": {},
   "outputs": [
    {
     "name": "stdout",
     "output_type": "stream",
     "text": [
      "Product ID: PROD001\n",
      "Product ID: PROD002\n",
      "Product ID: PROD003\n",
      "Product ID: PROD004\n"
     ]
    }
   ],
   "source": [
    "for product_id in product_prices:\n",
    "    print(f\"Product ID: {product_id}\")"
   ]
  },
  {
   "cell_type": "code",
   "execution_count": 45,
   "id": "b7ae5bdc",
   "metadata": {},
   "outputs": [
    {
     "name": "stdout",
     "output_type": "stream",
     "text": [
      "Price: 29.99\n",
      "Price: 12.5\n",
      "Price: 75.0\n",
      "Price: 5.25\n"
     ]
    }
   ],
   "source": [
    "# Iterate over values\n",
    "for price in product_prices.values():\n",
    "    print(f\"Price: {price}\")"
   ]
  },
  {
   "cell_type": "code",
   "execution_count": 46,
   "id": "005fc884",
   "metadata": {},
   "outputs": [
    {
     "name": "stdout",
     "output_type": "stream",
     "text": [
      "Product PROD001 costs $29.99\n",
      "Product PROD002 costs $12.5\n",
      "Product PROD003 costs $75.0\n",
      "Product PROD004 costs $5.25\n"
     ]
    }
   ],
   "source": [
    "# Iterate over key-value pairs (most common)\n",
    "for product_id, price in product_prices.items():\n",
    "    print(f\"Product {product_id} costs ${price}\")"
   ]
  },
  {
   "cell_type": "code",
   "execution_count": 47,
   "id": "1478ed07",
   "metadata": {},
   "outputs": [
    {
     "name": "stdout",
     "output_type": "stream",
     "text": [
      "\n",
      "--- Iterating through user profiles ---\n",
      "User: alice123, Name: Alice, Status: active\n",
      "User: bob_builder, Name: Bob, Status: inactive\n"
     ]
    }
   ],
   "source": [
    "print(\"\\n--- Iterating through user profiles ---\")\n",
    "for username, details in user_profiles.items():\n",
    "    print(f\"User: {username}, Name: {details['name']}, Status: {details['status']}\")"
   ]
  },
  {
   "cell_type": "code",
   "execution_count": 48,
   "id": "88a92783",
   "metadata": {},
   "outputs": [],
   "source": [
    "##Real-World Example: User Authentication System\n"
   ]
  },
  {
   "cell_type": "code",
   "execution_count": 49,
   "id": "1694e1b8",
   "metadata": {},
   "outputs": [],
   "source": [
    "user_credentials = {\n",
    "    \"john.doe\": \"hashed_pass_john\",\n",
    "    \"jane.smith\": \"hashed_pass_jane\",\n",
    "    \"admin_user\": \"hashed_pass_admin\",\n",
    "    \"guest_user\": \"hashed_pass_guest\"\n",
    "}"
   ]
  },
  {
   "cell_type": "code",
   "execution_count": 71,
   "id": "f932497f",
   "metadata": {},
   "outputs": [],
   "source": [
    "# Store active user sessions: session_token -> username\n",
    "active_sessions = {}"
   ]
  },
  {
   "cell_type": "code",
   "execution_count": 72,
   "id": "41908076",
   "metadata": {},
   "outputs": [
    {
     "name": "stdout",
     "output_type": "stream",
     "text": [
      "--- Initial State ---\n",
      "User Credentials: {'john.doe': 'hashed_pass_john', 'jane.smith': 'hashed_pass_jane', 'admin_user': 'hashed_pass_admin', 'guest_user': 'hashed_pass_guest'}\n",
      "Active Sessions: {}\n",
      "\n",
      "==================================================\n",
      "\n"
     ]
    }
   ],
   "source": [
    "print(\"--- Initial State ---\")\n",
    "print(f\"User Credentials: {user_credentials}\")\n",
    "print(f\"Active Sessions: {active_sessions}\")\n",
    "\n",
    "print(\"\\n\" + \"=\"*50 + \"\\n\")"
   ]
  },
  {
   "cell_type": "code",
   "execution_count": 73,
   "id": "b6c19dd4",
   "metadata": {},
   "outputs": [],
   "source": [
    "def login_user(username, password_attempt):\n",
    "    \"\"\"Simulates user login and session creation.\"\"\"\n",
    "    print(f\"\\nAttempting login for: {username}\")\n",
    "    if username in user_credentials:\n",
    "        # In a real system, compare password_attempt with hashed_password\n",
    "        if user_credentials[username] == password_attempt: \n",
    "            print('inside if block and password is: ')\n",
    "            import uuid\n",
    "            session_token = str(uuid.uuid4()) # Generate a unique session token\n",
    "            active_sessions[session_token] = username # Store session\n",
    "            print(f\"Login successful for {username}! Session Token: {session_token}\")\n",
    "            return session_token\n",
    "        else:\n",
    "            print(\"Incorrect password.\")\n",
    "    else:\n",
    "        print(\"Username not found.\")\n",
    "    return None\n",
    "\n",
    "\n",
    "def verify_session(token):\n",
    "    \"\"\"Verifies a session token and returns the username.\"\"\"\n",
    "    print(f\"\\nVerifying session token: {token}\")\n",
    "    if token in active_sessions:\n",
    "        username = active_sessions[token]\n",
    "        print(f\"Session valid for user: {username}\")\n",
    "        return username\n",
    "    else:\n",
    "        print(\"Invalid or expired session token.\")\n",
    "    return None\n",
    "\n",
    "def logout_user(token):\n",
    "    \"\"\"Logs out a user by invalidating their session.\"\"\"\n",
    "    print(f\"\\nAttempting logout for token: {token}\")\n",
    "    if token in active_sessions:\n",
    "        username = active_sessions.pop(token) # Efficiently remove session\n",
    "        print(f\"User {username} logged out. Session removed.\")\n",
    "    else:\n",
    "        print(\"Session not found or already logged out.\")\n"
   ]
  },
  {
   "cell_type": "code",
   "execution_count": 74,
   "id": "8c9e7336",
   "metadata": {},
   "outputs": [
    {
     "name": "stdout",
     "output_type": "stream",
     "text": [
      "\n",
      "Attempting login for: john.doe\n",
      "inside if block and password is: \n",
      "Login successful for john.doe! Session Token: 078cd5ad-ee75-4fdf-8cc8-33b5a156c454\n",
      "Active Sessions after John's login: {'078cd5ad-ee75-4fdf-8cc8-33b5a156c454': 'john.doe'}\n"
     ]
    }
   ],
   "source": [
    "# 1. John tries to log in\n",
    "john_session = login_user(\"john.doe\", \"hashed_pass_john\")\n",
    "print(f\"Active Sessions after John's login: {active_sessions}\")"
   ]
  },
  {
   "cell_type": "code",
   "execution_count": 65,
   "id": "8fe60e89",
   "metadata": {},
   "outputs": [
    {
     "data": {
      "text/plain": [
       "'john'"
      ]
     },
     "execution_count": 65,
     "metadata": {},
     "output_type": "execute_result"
    }
   ],
   "source": [
    "\"john.doe\".split('.')[0]"
   ]
  },
  {
   "cell_type": "code",
   "execution_count": 75,
   "id": "c96547c7",
   "metadata": {},
   "outputs": [
    {
     "name": "stdout",
     "output_type": "stream",
     "text": [
      "\n",
      "Attempting login for: jane.smith\n",
      "Incorrect password.\n",
      "Active Sessions after Jane's failed login: {'078cd5ad-ee75-4fdf-8cc8-33b5a156c454': 'john.doe'}\n"
     ]
    }
   ],
   "source": [
    "# 2. Jane tries to log in with wrong password\n",
    "jane_wrong_session = login_user(\"jane.smith\", \"wrong_pass\")\n",
    "print(f\"Active Sessions after Jane's failed login: {active_sessions}\")"
   ]
  },
  {
   "cell_type": "code",
   "execution_count": 76,
   "id": "2b9e015d",
   "metadata": {},
   "outputs": [
    {
     "name": "stdout",
     "output_type": "stream",
     "text": [
      "\n",
      "Attempting login for: jane.smith\n",
      "inside if block and password is: \n",
      "Login successful for jane.smith! Session Token: 74e2e959-e699-4289-88d6-fb15e7aaa3ce\n",
      "Active Sessions after Jane's correct login: {'078cd5ad-ee75-4fdf-8cc8-33b5a156c454': 'john.doe', '74e2e959-e699-4289-88d6-fb15e7aaa3ce': 'jane.smith'}\n"
     ]
    }
   ],
   "source": [
    "# 3. Jane logs in correctly\n",
    "jane_session = login_user(\"jane.smith\", \"hashed_pass_jane\")\n",
    "print(f\"Active Sessions after Jane's correct login: {active_sessions}\")"
   ]
  },
  {
   "cell_type": "code",
   "execution_count": 77,
   "id": "1508bb7a",
   "metadata": {},
   "outputs": [
    {
     "name": "stdout",
     "output_type": "stream",
     "text": [
      "\n",
      "Verifying session token: 078cd5ad-ee75-4fdf-8cc8-33b5a156c454\n",
      "Session valid for user: john.doe\n",
      "\n",
      "Verifying session token: some_random_token\n",
      "Invalid or expired session token.\n",
      "\n",
      "Attempting login for: admin_user\n",
      "inside if block and password is: \n",
      "Login successful for admin_user! Session Token: d0310712-1f1b-4706-bb24-206058a22ef6\n",
      "Active Sessions after Admin login: {'078cd5ad-ee75-4fdf-8cc8-33b5a156c454': 'john.doe', '74e2e959-e699-4289-88d6-fb15e7aaa3ce': 'jane.smith', 'd0310712-1f1b-4706-bb24-206058a22ef6': 'admin_user'}\n",
      "\n",
      "Attempting logout for token: 078cd5ad-ee75-4fdf-8cc8-33b5a156c454\n",
      "User john.doe logged out. Session removed.\n",
      "Active Sessions after John's logout: {'74e2e959-e699-4289-88d6-fb15e7aaa3ce': 'jane.smith', 'd0310712-1f1b-4706-bb24-206058a22ef6': 'admin_user'}\n",
      "\n",
      "Verifying session token: 078cd5ad-ee75-4fdf-8cc8-33b5a156c454\n",
      "Invalid or expired session token.\n",
      "\n",
      "--- Current Active Sessions ---\n",
      "Token: 74e2e959..., User: jane.smith\n",
      "Token: d0310712..., User: admin_user\n",
      "\n",
      "==================================================\n",
      "\n"
     ]
    }
   ],
   "source": [
    "# 4. Verify John's session\n",
    "if john_session:\n",
    "    verify_session(john_session)\n",
    "\n",
    "# 5. Try to verify an invalid session\n",
    "verify_session(\"some_random_token\")\n",
    "\n",
    "# 6. Admin user logs in\n",
    "admin_session = login_user(\"admin_user\", \"hashed_pass_admin\")\n",
    "print(f\"Active Sessions after Admin login: {active_sessions}\")\n",
    "\n",
    "# 7. John logs out\n",
    "if john_session:\n",
    "    logout_user(john_session)\n",
    "print(f\"Active Sessions after John's logout: {active_sessions}\")\n",
    "\n",
    "# 8. Try to verify John's session again (should be invalid)\n",
    "if john_session:\n",
    "    verify_session(john_session)\n",
    "\n",
    "# 9. Iterate through current active sessions\n",
    "print(\"\\n--- Current Active Sessions ---\")\n",
    "for token, username in active_sessions.items():\n",
    "    print(f\"Token: {token[:8]}..., User: {username}\")\n",
    "\n",
    "print(\"\\n\" + \"=\"*50 + \"\\n\")"
   ]
  },
  {
   "cell_type": "code",
   "execution_count": null,
   "id": "be544a53",
   "metadata": {},
   "outputs": [],
   "source": []
  }
 ],
 "metadata": {
  "kernelspec": {
   "display_name": "rbyte-env",
   "language": "python",
   "name": "python3"
  },
  "language_info": {
   "codemirror_mode": {
    "name": "ipython",
    "version": 3
   },
   "file_extension": ".py",
   "mimetype": "text/x-python",
   "name": "python",
   "nbconvert_exporter": "python",
   "pygments_lexer": "ipython3",
   "version": "3.11.4"
  }
 },
 "nbformat": 4,
 "nbformat_minor": 5
}
