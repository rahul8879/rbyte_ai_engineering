{
 "cells": [
  {
   "cell_type": "markdown",
   "metadata": {},
   "source": [
    "# What is Object-Oriented Programming (OOP)?\n",
    "\n",
    "Imagine you're building a house. You don't just randomly throw bricks and wood together. You have a blueprint (design) for the house, and then you build multiple houses (instances) based on that blueprint.\n",
    "\n",
    "OOP is a **programming paradigm** (a way of thinking about and structuring code) that uses **objects** to design applications and computer programs. It's like modeling real-world entities and their interactions within your code.\n",
    "\n",
    "The core idea is to break down a complex problem into smaller, manageable pieces called **objects**, which are self-contained units that combine **data (attributes)** and **behavior (actions)**.\n",
    "\n",
    "---\n",
    "\n",
    "## The Foundation: Classes and Objects\n",
    "\n",
    "### 1. Class: The Blueprint (or Template)\n",
    "\n",
    "Think of a class as a **blueprint**, a template, or a design for creating objects. It defines the common characteristics (data) and behaviors (actions) that all objects of that type will have.\n",
    "\n",
    "**Analogy:**\n",
    "\n",
    "- **Blueprint for a \"Car\"**: A car blueprint would specify that all cars have a make, model, color, number of wheels, and can start, stop, accelerate, and brake.  \n",
    "- **Cookie Cutter for a \"Star\"**: A star cookie cutter defines the shape and size of a star cookie.\n",
    "\n",
    "**In Programming Terms:**  \n",
    "A class is a logical construct that describes the **properties** (variables) and **methods** (functions) that objects of that class will possess. It doesn't actually exist in memory until you create an object from it.\n",
    "\n",
    "---\n",
    "\n",
    "### 2. Object: The Real Thing (or Instance)\n",
    "\n",
    "An **object** is an instance of a class. It's a concrete realization of the blueprint. You can create many objects from a single class.\n",
    "\n",
    "**Analogy:**\n",
    "\n",
    "- A specific **\"Car\"**: Your red Honda Civic, my blue Tesla Model 3. These are actual cars built from the \"Car\" blueprint.  \n",
    "- A specific **\"Star Cookie\"**: The actual star-shaped cookie you just baked.\n",
    "\n",
    "**In Programming Terms:**  \n",
    "When you create an object from a class, **memory is allocated** for that object.\n"
   ]
  },
  {
   "cell_type": "code",
   "execution_count": 30,
   "metadata": {},
   "outputs": [],
   "source": [
    "class Dog:\n",
    "    def __init__(self, name, breed, age, color):\n",
    "        self.name = name\n",
    "        self.breed = breed\n",
    "        self.age = age\n",
    "        self.color = color\n",
    "\n",
    "    # action or behaviour \n",
    "    def bark(self):\n",
    "        return f\"{self.name} says Woof! Woof!\"\n",
    "\n",
    "    def eat(self, food):\n",
    "        return f\"{self.name} is happily eating {food}.\"\n",
    "\n",
    "    def sleep(self):\n",
    "        return f\"{self.name} is taking a nap.\"\n",
    "\n",
    "    def wag_tail(self):\n",
    "        return f\"{self.name} wags its tail excitedly!\"\n",
    "\n",
    "    \n",
    "\n",
    "\n",
    "# Create an object (an instance of the Dog class)\n",
    "my_dog = Dog(\"Buddy\", \"Golden Retriever\", 3, \"Golden\")\n",
    "\n",
    "# Create another object\n",
    "your_dog = Dog(\"Lucy\", \"Poodle\", 5, \"White\")\n",
    "\n",
    "# Create yet another object\n",
    "neighbor_dog = Dog(\"Max\", \"German Shepherd\", 2, \"Black and Tan\")"
   ]
  },
  {
   "cell_type": "code",
   "execution_count": 28,
   "metadata": {},
   "outputs": [
    {
     "name": "stdout",
     "output_type": "stream",
     "text": [
      "My dog's name is: Buddy\n",
      "Your dog's breed is: Poodle\n",
      "Neighbor's dog's age is: 2\n"
     ]
    }
   ],
   "source": [
    "print(f\"My dog's name is: {my_dog.name}\")\n",
    "print(f\"Your dog's breed is: {your_dog.breed}\")\n",
    "print(f\"Neighbor's dog's age is: {neighbor_dog.age}\")"
   ]
  },
  {
   "cell_type": "code",
   "execution_count": 29,
   "metadata": {},
   "outputs": [
    {
     "name": "stdout",
     "output_type": "stream",
     "text": [
      "Buddy says Woof! Woof!\n",
      "Lucy is happily eating kibble.\n",
      "Max is taking a nap.\n",
      "Buddy wags its tail excitedly!\n"
     ]
    }
   ],
   "source": [
    "print(my_dog.bark())\n",
    "print(your_dog.eat(\"kibble\"))\n",
    "print(neighbor_dog.sleep())\n",
    "print(my_dog.wag_tail())"
   ]
  },
  {
   "cell_type": "code",
   "execution_count": 35,
   "metadata": {},
   "outputs": [],
   "source": [
    "class BankAccount:\n",
    "    def __init__(self, account_number, account_holder_name, initial_balance=0.0, account_type=\"Savings\"):\n",
    "        self.account_number = account_number\n",
    "        self.account_holder_name = account_holder_name\n",
    "        # The 'balance' is a crucial piece of data.\n",
    "        # We will make it 'private' (conventionally in Python, by starting with __)\n",
    "        # to ensure it's only modified by deposit/withdraw methods.\n",
    "        self.__balance = initial_balance\n",
    "        self.account_type = account_type\n",
    "\n",
    "    # Method to deposit money\n",
    "    def deposit(self, amount):\n",
    "        if amount > 0:\n",
    "            self.__balance += amount\n",
    "            print(f\"Deposited ${amount:.2f}. New balance: ${self.__balance:.2f}\")\n",
    "        else:\n",
    "            print(\"Deposit amount must be positive.\")\n",
    "\n",
    "    # Method to withdraw money\n",
    "    def withdraw(self, amount):\n",
    "        if amount > 0:\n",
    "            if self.__balance >= amount:\n",
    "                self.__balance -= amount\n",
    "                print(f\"Withdrew ${amount:.2f}. New balance: ${self.__balance:.2f}\")\n",
    "            else:\n",
    "                print(\"Insufficient funds.\")\n",
    "        else:\n",
    "            print(\"Withdrawal amount must be positive.\")\n",
    "\n",
    "    # Method to check balance (a \"getter\" method)\n",
    "    def get_balance(self):\n",
    "        return self.__balance\n",
    "\n",
    "    # Method to display account details\n",
    "    def display_account_details(self):\n",
    "        print(f\"\\n--- Account Details ---\")\n",
    "        print(f\"Account Number: {self.account_number}\")\n",
    "        print(f\"Account Holder: {self.account_holder_name}\")\n",
    "        print(f\"Account Type: {self.account_type}\")\n",
    "        print(f\"Current Balance: ${self.get_balance():.2f}\")\n",
    "        print(f\"-----------------------\")"
   ]
  },
  {
   "cell_type": "code",
   "execution_count": 36,
   "metadata": {},
   "outputs": [
    {
     "name": "stdout",
     "output_type": "stream",
     "text": [
      "\n",
      "--- Account Details ---\n",
      "Account Number: 1234567890\n",
      "Account Holder: Alice Smith\n",
      "Account Type: Savings\n",
      "Current Balance: $500.00\n",
      "-----------------------\n"
     ]
    }
   ],
   "source": [
    "my_account = BankAccount(\"1234567890\", \"Alice Smith\", 500.0)\n",
    "my_account.display_account_details()\n"
   ]
  },
  {
   "cell_type": "code",
   "execution_count": 37,
   "metadata": {},
   "outputs": [
    {
     "name": "stdout",
     "output_type": "stream",
     "text": [
      "Deposited $200.00. New balance: $700.00\n"
     ]
    }
   ],
   "source": [
    "# Perform operations using the defined methods\n",
    "my_account.deposit(200.0) # This uses the deposit method"
   ]
  },
  {
   "cell_type": "code",
   "execution_count": 38,
   "metadata": {},
   "outputs": [
    {
     "name": "stdout",
     "output_type": "stream",
     "text": [
      "Withdrew $100.00. New balance: $600.00\n"
     ]
    }
   ],
   "source": [
    "my_account.withdraw(100.0) # This uses the withdraw method\n"
   ]
  },
  {
   "cell_type": "code",
   "execution_count": 40,
   "metadata": {},
   "outputs": [
    {
     "name": "stdout",
     "output_type": "stream",
     "text": [
      "Deposit amount must be positive.\n",
      "Insufficient funds.\n"
     ]
    }
   ],
   "source": [
    "my_account.deposit(-50.0) # Invalid deposit, handled by the method\n",
    "my_account.withdraw(700.0) # Insufficient funds, handled by the method"
   ]
  },
  {
   "cell_type": "code",
   "execution_count": 44,
   "metadata": {},
   "outputs": [],
   "source": [
    "my_account.__balance = 100000000"
   ]
  },
  {
   "cell_type": "code",
   "execution_count": 45,
   "metadata": {},
   "outputs": [
    {
     "name": "stdout",
     "output_type": "stream",
     "text": [
      "\n",
      "Balance retrieved using get_balance(): $600.00\n",
      "\n",
      "--- Account Details ---\n",
      "Account Number: 1234567890\n",
      "Account Holder: Alice Smith\n",
      "Account Type: Savings\n",
      "Current Balance: $600.00\n",
      "-----------------------\n"
     ]
    }
   ],
   "source": [
    "# Get the balance using the getter method\n",
    "print(f\"\\nBalance retrieved using get_balance(): ${my_account.get_balance():.2f}\")\n",
    "my_account.display_account_details()"
   ]
  },
  {
   "cell_type": "code",
   "execution_count": 46,
   "metadata": {},
   "outputs": [
    {
     "name": "stdout",
     "output_type": "stream",
     "text": [
      "\n",
      "--- Account Details ---\n",
      "Account Number: 9876543210\n",
      "Account Holder: Bob Johnson\n",
      "Account Type: Checking\n",
      "Current Balance: $100.00\n",
      "-----------------------\n",
      "Withdrew $50.00. New balance: $50.00\n"
     ]
    }
   ],
   "source": [
    "# Create another account\n",
    "bob_account = BankAccount(\"9876543210\", \"Bob Johnson\", 100.0, \"Checking\")\n",
    "bob_account.display_account_details()\n",
    "bob_account.withdraw(50.0)"
   ]
  },
  {
   "cell_type": "markdown",
   "metadata": {},
   "source": [
    "### Example 1: SmartLight (A Smart Home Device)\n",
    "\n",
    "Imagine a smart light bulb.\n",
    "\n",
    "**Data (Attributes):**\n",
    "- Is it on or off? (`_is_on`)\n",
    "- What is its brightness level? (`_brightness`)\n",
    "- What color is it? (`_color`)\n",
    "- What is its unique ID? (`id`)\n",
    "\n",
    "**Actions (Methods/Behaviors):**\n",
    "- Turn on\n",
    "- Turn off\n",
    "- Set brightness\n",
    "- Change color\n",
    "- Get status\n",
    "\n",
    "---\n",
    "\n",
    "**How Encapsulation Works:**\n",
    "\n",
    "We want to ensure that a SmartLight object's state (like its brightness or whether it's on) is always consistent and valid.  \n",
    "For instance, you shouldn't be able to:\n",
    "- Set a **negative brightness**.  \n",
    "- Change the **color of a light** that's turned off in an illogical way.\n"
   ]
  },
  {
   "cell_type": "code",
   "execution_count": 52,
   "metadata": {},
   "outputs": [],
   "source": [
    "class SmartLight:\n",
    "    def __init__(self, light_id):\n",
    "        self.id = light_id\n",
    "        self.__is_on = False  # Private: Internal state, should only change via methods\n",
    "        self.__brightness = 50 # Private: Default brightness, 0-100\n",
    "        self.__color = \"white\" # Private: Default color\n",
    "\n",
    "    # Public method to turn the light on\n",
    "    def turn_on(self):\n",
    "        if not self.__is_on:\n",
    "            self.__is_on = True\n",
    "            print(f\"Light {self.id} is now ON.\")\n",
    "        else:\n",
    "            print(f\"Light {self.id} is already ON.\")\n",
    "\n",
    "    # Public method to turn the light off\n",
    "    def turn_off(self):\n",
    "        if self.__is_on:\n",
    "            self.__is_on = False\n",
    "            print(f\"Light {self.id} is now OFF.\")\n",
    "        else:\n",
    "            print(f\"Light {self.id} is already OFF.\")\n",
    "\n",
    "    # Public method to set brightness with validation\n",
    "    def set_brightness(self, level):\n",
    "        if self.__is_on: # Can only set brightness if the light is on\n",
    "            if 0 <= level <= 100:\n",
    "                self.__brightness = level\n",
    "                print(f\"Light {self.id} brightness set to {self.__brightness}%.\")\n",
    "            else:\n",
    "                print(\"Brightness level must be between 0 and 100.\")\n",
    "        else:\n",
    "            print(f\"Cannot set brightness. Light {self.id} is OFF.\")\n",
    "\n",
    "    # Public method to change color\n",
    "    def set_color(self, new_color):\n",
    "        if self.__is_on: # Can only change color if the light is on\n",
    "            valid_colors = [\"white\", \"red\", \"green\", \"blue\", \"yellow\"]\n",
    "            if new_color.lower() in valid_colors:\n",
    "                self.__color = new_color.lower()\n",
    "                print(f\"Light {self.id} color changed to {self.__color}.\")\n",
    "            else:\n",
    "                print(f\"Invalid color: {new_color}. Valid colors are {', '.join(valid_colors)}.\")\n",
    "        else:\n",
    "            print(f\"Cannot change color. Light {self.id} is OFF.\")\n",
    "\n",
    "    def get_status(self):\n",
    "        status = \"ON\" if self.__is_on else \"OFF\" # you can say that : split the logic here\n",
    "        return f\"Light {self.id} is {status}, brightness: {self.__brightness}%, color: {self.__color}.\""
   ]
  },
  {
   "cell_type": "code",
   "execution_count": 53,
   "metadata": {},
   "outputs": [
    {
     "name": "stdout",
     "output_type": "stream",
     "text": [
      "Light LR001 is OFF, brightness: 50%, color: white.\n"
     ]
    }
   ],
   "source": [
    "# Create a smart light object\n",
    "living_room_light = SmartLight(\"LR001\")\n",
    "print(living_room_light.get_status())"
   ]
  },
  {
   "cell_type": "code",
   "execution_count": 54,
   "metadata": {},
   "outputs": [
    {
     "name": "stdout",
     "output_type": "stream",
     "text": [
      "Cannot set brightness. Light LR001 is OFF.\n",
      "Cannot change color. Light LR001 is OFF.\n"
     ]
    }
   ],
   "source": [
    "living_room_light.set_brightness(75) # Fails because light is OFF\n",
    "living_room_light.set_color(\"purple\") # Fails because light is OFF"
   ]
  },
  {
   "cell_type": "code",
   "execution_count": 55,
   "metadata": {},
   "outputs": [
    {
     "name": "stdout",
     "output_type": "stream",
     "text": [
      "Light LR001 is now ON.\n",
      "Light LR001 brightness set to 75%.\n",
      "Light LR001 color changed to blue.\n",
      "Light LR001 is ON, brightness: 75%, color: blue.\n"
     ]
    }
   ],
   "source": [
    "living_room_light.turn_on()\n",
    "\n",
    "living_room_light.set_brightness(75) # Works\n",
    "living_room_light.set_color(\"blue\")  # Works\n",
    "print(living_room_light.get_status())"
   ]
  },
  {
   "cell_type": "markdown",
   "metadata": {},
   "source": [
    "### Example 2: TemperatureSensor (A Weather Station Component)\n",
    "\n",
    "Consider a digital temperature sensor used in a weather station.\n",
    "\n",
    "**Data (Attributes):**\n",
    "- Current temperature reading (`_current_temp_celsius`)\n",
    "- Sensor ID (`sensor_id`)\n",
    "- Last calibration date (`_last_calibration_date`)\n",
    "\n",
    "**Actions (Methods/Behaviors):**\n",
    "- Take a new reading\n",
    "- Convert temperature to Fahrenheit\n",
    "- Calibrate the sensor\n",
    "- Get sensor status\n",
    "\n",
    "---\n",
    "\n",
    "**How Encapsulation Works:**\n",
    "\n",
    "We want to ensure that the temperature reading is obtained correctly (e.g., from an actual sensor or a simulated one), and that the calibration process is managed internally.  \n",
    "We don't want external code **directly assigning arbitrary temperature values**, as that wouldn't reflect a real sensor.\n"
   ]
  },
  {
   "cell_type": "markdown",
   "metadata": {},
   "source": [
    "### Example 3: OnlineProduct (E-commerce Store)\n",
    "\n",
    "Imagine an item for sale in an online store, like a T-shirt or a book.\n",
    "\n",
    "**Data (Attributes):**\n",
    "- Product ID (`product_id`)\n",
    "- Name (`name`)\n",
    "- Price (`_price`)\n",
    "- Available stock quantity (`_stock_quantity`)\n",
    "- Description (`description`)\n",
    "\n",
    "**Actions (Methods/Behaviors):**\n",
    "- Update price\n",
    "- Add stock\n",
    "- Remove stock (after a purchase)\n",
    "- Get product details\n",
    "- Check availability\n",
    "\n",
    "---\n",
    "\n",
    "**How Encapsulation Works:**\n",
    "\n",
    "For an OnlineProduct, it's crucial that its price and stock quantity are managed carefully.  \n",
    "We don't want someone directly setting:\n",
    "- A **negative price**, or  \n",
    "- A **negative stock**.\n",
    "\n",
    "The **business logic** for price changes or stock updates should be handled **internally by the object itself**.\n"
   ]
  },
  {
   "cell_type": "markdown",
   "metadata": {},
   "source": [
    "### Inheritance: Building on Existing Code (Banking Example)\n",
    "\n",
    "Inheritance is one of the fundamental concepts of **Object-Oriented Programming (OOP)**.  \n",
    "It's a mechanism that allows a new class (called a **subclass** or **derived class**) to **inherit properties (attributes)** and **behaviors (methods)** from an existing class (called a **superclass** or **base class**).\n",
    "\n",
    "Think of it like a **family tree**. A child **inherits certain traits** from their parents, but they also have their own **unique traits**.\n",
    "\n",
    "---\n",
    "\n",
    "**The Core Idea: \"Is-A\" Relationship**\n",
    "\n",
    "Inheritance is best used when there's an **\"is-a\" relationship** between classes:\n",
    "\n",
    "- A `SavingsAccount` **is a** `BankAccount`.  \n",
    "- A `CheckingAccount` **is a** `BankAccount`.\n",
    "\n",
    "This means that a `SavingsAccount` and a `CheckingAccount` will share **common characteristics** and **behaviors** with a general `BankAccount`, but they will also have their own specific **rules** and **features**.\n",
    "\n",
    "---\n",
    "\n",
    "#### Step 1: The Base Class (Parent/Superclass) - BankAccount\n",
    "\n",
    "Let's start with a general `BankAccount` class that defines the **common features** of any bank account.\n"
   ]
  },
  {
   "cell_type": "code",
   "execution_count": 56,
   "metadata": {},
   "outputs": [],
   "source": [
    "class BankAccount:\n",
    "    def __init__(self, account_number, account_holder_name, initial_balance=0.0):\n",
    "        self.account_number = account_number\n",
    "        self.account_holder_name = account_holder_name\n",
    "        self.__balance = initial_balance  # Encapsulated balance\n",
    "\n",
    "    def deposit(self, amount):\n",
    "        if amount > 0:\n",
    "            self.__balance += amount\n",
    "            print(f\"Deposited ${amount:.2f} into account {self.account_number}. New balance: ${self.__balance:.2f}\")\n",
    "        else:\n",
    "            print(\"Deposit amount must be positive.\")\n",
    "\n",
    "    def withdraw(self, amount):\n",
    "        if amount > 0:\n",
    "            if self.__balance >= amount:\n",
    "                self.__balance -= amount\n",
    "                print(f\"Withdrew ${amount:.2f} from account {self.account_number}. New balance: ${self.__balance:.2f}\")\n",
    "                return True\n",
    "            else:\n",
    "                print(f\"Insufficient funds in account {self.account_number}.\")\n",
    "                return False\n",
    "        else:\n",
    "            print(\"Withdrawal amount must be positive.\")\n",
    "            return False\n",
    "\n",
    "    def get_balance(self):\n",
    "        return self.__balance\n",
    "\n",
    "    def display_account_info(self):\n",
    "        print(f\"\\n--- Account Info ---\")\n",
    "        print(f\"Account No: {self.account_number}\")\n",
    "        print(f\"Holder: {self.account_holder_name}\")\n",
    "        print(f\"Balance: ${self.get_balance():.2f}\")\n",
    "        print(f\"--------------------\")"
   ]
  },
  {
   "cell_type": "code",
   "execution_count": 58,
   "metadata": {},
   "outputs": [],
   "source": [
    "class SavingsAccount(BankAccount): # SavingsAccount inherits from BankAccount\n",
    "    def __init__(self, account_number, account_holder_name, initial_balance=0.0, interest_rate=0.01, min_balance=100.0):\n",
    "        # Call the constructor of the parent class (BankAccount)\n",
    "        super().__init__(account_number, account_holder_name, initial_balance)\n",
    "        self.interest_rate = interest_rate\n",
    "        self.__min_balance = min_balance # Private attribute for savings rule\n",
    "\n",
    "    def apply_interest(self):\n",
    "        interest_amount = self.get_balance() * self.interest_rate\n",
    "        self.deposit(interest_amount) # Use the deposit method from the parent\n",
    "        print(f\"Interest of ${interest_amount:.2f} applied to savings account {self.account_number}.\")\n",
    "\n",
    "    # Override the withdraw method to add a minimum balance check\n",
    "    def withdraw(self, amount):\n",
    "        if (self.get_balance() - amount) < self.__min_balance:\n",
    "            print(f\"Withdrawal denied for savings account {self.account_number}: \"\n",
    "                  f\"Maintaining minimum balance of ${self.__min_balance:.2f}.\")\n",
    "            return False\n",
    "        else:\n",
    "            # Call the parent's withdraw method for the actual transaction\n",
    "            return super().withdraw(amount)\n",
    "\n",
    "    def display_account_info(self):\n",
    "        # Call the parent's display info and add specific savings details\n",
    "        super().display_account_info()\n",
    "        print(f\"Account Type: Savings\")\n",
    "        print(f\"Interest Rate: {self.interest_rate * 100:.2f}%\")\n",
    "        print(f\"Minimum Balance: ${self.__min_balance:.2f}\")"
   ]
  },
  {
   "cell_type": "code",
   "execution_count": 59,
   "metadata": {},
   "outputs": [],
   "source": [
    "class CheckingAccount(BankAccount): # CheckingAccount inherits from BankAccount\n",
    "    def __init__(self, account_number, account_holder_name, initial_balance=0.0, overdraft_limit=200.0):\n",
    "        super().__init__(account_number, account_holder_name, initial_balance)\n",
    "        self.overdraft_limit = overdraft_limit\n",
    "\n",
    "    # Override the withdraw method to allow overdrafts within the limit\n",
    "    def withdraw(self, amount):\n",
    "        if amount > 0:\n",
    "            # Check if withdrawal exceeds balance but is within overdraft limit\n",
    "            if self.get_balance() - amount >= -self.overdraft_limit:\n",
    "                # Use the parent's withdraw method to decrease balance\n",
    "                # Note: The parent's withdraw method checks for sufficient funds (balance >= amount).\n",
    "                # If we allow overdraft, we need to handle that logic here\n",
    "                self_balance = self.get_balance() # Get current balance to check against limit\n",
    "                if self_balance >= amount: # If sufficient funds, use parent's logic\n",
    "                    return super().withdraw(amount)\n",
    "                else: # Overdraft scenario\n",
    "                    # Directly modify balance and print appropriate message\n",
    "                    # Since parent's withdraw won't allow negative balance without custom handling,\n",
    "                    # we manage the balance deduction here for overdrafts.\n",
    "                    new_balance = self_balance - amount\n",
    "                    self._BankAccount__balance = new_balance # Directly access mangled private name\n",
    "                    print(f\"Withdrew ${amount:.2f} from checking account {self.account_number}. \"\n",
    "                          f\"You are now using overdraft. New balance: ${self.get_balance():.2f}\")\n",
    "                    return True\n",
    "            else:\n",
    "                print(f\"Withdrawal denied for checking account {self.account_number}: \"\n",
    "                      f\"Exceeds overdraft limit of ${self.overdraft_limit:.2f}.\")\n",
    "                return False\n",
    "        else:\n",
    "            print(\"Withdrawal amount must be positive.\")\n",
    "            return False\n",
    "\n",
    "    def display_account_info(self):\n",
    "        super().display_account_info()\n",
    "        print(f\"Account Type: Checking\")\n",
    "        print(f\"Overdraft Limit: ${self.overdraft_limit:.2f}\")"
   ]
  },
  {
   "cell_type": "code",
   "execution_count": 60,
   "metadata": {},
   "outputs": [
    {
     "name": "stdout",
     "output_type": "stream",
     "text": [
      "\n",
      "--- Account Info ---\n",
      "Account No: BA001\n",
      "Holder: John Doe\n",
      "Balance: $1000.00\n",
      "--------------------\n",
      "Withdrew $200.00 from account BA001. New balance: $800.00\n",
      "Insufficient funds in account BA001.\n",
      "Deposited $50.00 into account BA001. New balance: $850.00\n",
      "\n",
      "--- Account Info ---\n",
      "Account No: BA001\n",
      "Holder: John Doe\n",
      "Balance: $850.00\n",
      "--------------------\n"
     ]
    }
   ],
   "source": [
    "# General Bank Account\n",
    "general_acc = BankAccount(\"BA001\", \"John Doe\", 1000.0)\n",
    "general_acc.display_account_info()\n",
    "general_acc.withdraw(200)\n",
    "general_acc.withdraw(900) # Insufficient funds for general account\n",
    "general_acc.deposit(50)\n",
    "general_acc.display_account_info()"
   ]
  },
  {
   "cell_type": "code",
   "execution_count": 61,
   "metadata": {},
   "outputs": [
    {
     "name": "stdout",
     "output_type": "stream",
     "text": [
      "\n",
      "--- Account Info ---\n",
      "Account No: SA001\n",
      "Holder: Alice Smith\n",
      "Balance: $500.00\n",
      "--------------------\n",
      "Account Type: Savings\n",
      "Interest Rate: 2.00%\n",
      "Minimum Balance: $100.00\n"
     ]
    }
   ],
   "source": [
    "# Savings Account\n",
    "savings_acc = SavingsAccount(\"SA001\", \"Alice Smith\", 500.0, 0.02, 100.0)\n",
    "savings_acc.display_account_info() # Displays inherited and specific info"
   ]
  },
  {
   "cell_type": "code",
   "execution_count": 62,
   "metadata": {},
   "outputs": [
    {
     "name": "stdout",
     "output_type": "stream",
     "text": [
      "Deposited $150.00 into account SA001. New balance: $650.00\n",
      "Withdrew $400.00 from account SA001. New balance: $250.00\n",
      "Withdrawal denied for savings account SA001: Maintaining minimum balance of $100.00.\n",
      "Withdrawal denied for savings account SA001: Maintaining minimum balance of $100.00.\n",
      "Deposited $5.00 into account SA001. New balance: $255.00\n",
      "Interest of $5.00 applied to savings account SA001.\n",
      "\n",
      "--- Account Info ---\n",
      "Account No: SA001\n",
      "Holder: Alice Smith\n",
      "Balance: $255.00\n",
      "--------------------\n",
      "Account Type: Savings\n",
      "Interest Rate: 2.00%\n",
      "Minimum Balance: $100.00\n"
     ]
    }
   ],
   "source": [
    "savings_acc.deposit(150.0)\n",
    "savings_acc.withdraw(400.0) # This will be denied due to minimum balance (500 + 150 - 400 = 250, which is > 100)\n",
    "savings_acc.withdraw(600.0) # This will be denied due to minimum balance (500 + 150 - 600 = 50, which is < 100)\n",
    "savings_acc.withdraw(500.0) # This will work (650 - 500 = 150, which is > 100)\n",
    "savings_acc.apply_interest() # Specific method for SavingsAccount\n",
    "savings_acc.display_account_info()"
   ]
  },
  {
   "cell_type": "code",
   "execution_count": 63,
   "metadata": {},
   "outputs": [
    {
     "name": "stdout",
     "output_type": "stream",
     "text": [
      "\n",
      "========================================\n",
      "\n",
      "\n",
      "--- Account Info ---\n",
      "Account No: CA001\n",
      "Holder: Bob Johnson\n",
      "Balance: $300.00\n",
      "--------------------\n",
      "Account Type: Checking\n",
      "Overdraft Limit: $200.00\n",
      "Deposited $100.00 into account CA001. New balance: $400.00\n",
      "Withdrew $200.00 from account CA001. New balance: $200.00\n",
      "Withdrew $350.00 from checking account CA001. You are now using overdraft. New balance: $-150.00\n",
      "Withdrawal denied for checking account CA001: Exceeds overdraft limit of $200.00.\n",
      "Withdrew $50.00 from checking account CA001. You are now using overdraft. New balance: $-200.00\n",
      "\n",
      "--- Account Info ---\n",
      "Account No: CA001\n",
      "Holder: Bob Johnson\n",
      "Balance: $-200.00\n",
      "--------------------\n",
      "Account Type: Checking\n",
      "Overdraft Limit: $200.00\n"
     ]
    }
   ],
   "source": [
    "print(\"\\n\" + \"=\"*40 + \"\\n\")\n",
    "\n",
    "# Checking Account\n",
    "checking_acc = CheckingAccount(\"CA001\", \"Bob Johnson\", 300.0, 200.0)\n",
    "checking_acc.display_account_info() # Displays inherited and specific info\n",
    "\n",
    "checking_acc.deposit(100.0)\n",
    "checking_acc.withdraw(200.0) # Works (300+100-200 = 200)\n",
    "checking_acc.withdraw(350.0) # Works, uses overdraft (200-350 = -150, which is within -200 limit)\n",
    "checking_acc.withdraw(100.0) # Works, still within overdraft (-150-100 = -250, which is not within -200 limit)\n",
    "checking_acc.withdraw(50.0) # This will be denied (current balance -250, -250-50 = -300, which exceeds -200 limit)\n",
    "checking_acc.display_account_info()"
   ]
  },
  {
   "cell_type": "code",
   "execution_count": null,
   "metadata": {},
   "outputs": [],
   "source": []
  }
 ],
 "metadata": {
  "kernelspec": {
   "display_name": "rbyte-env",
   "language": "python",
   "name": "python3"
  },
  "language_info": {
   "codemirror_mode": {
    "name": "ipython",
    "version": 3
   },
   "file_extension": ".py",
   "mimetype": "text/x-python",
   "name": "python",
   "nbconvert_exporter": "python",
   "pygments_lexer": "ipython3",
   "version": "3.11.4"
  }
 },
 "nbformat": 4,
 "nbformat_minor": 2
}
